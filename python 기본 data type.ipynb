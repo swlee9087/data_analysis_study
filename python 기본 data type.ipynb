{
 "cells": [
  {
   "cell_type": "markdown",
   "id": "e8d2f738",
   "metadata": {},
   "source": [
    "# 파이썬 기본 자료형\n",
    "\n",
    "str\n",
    "int\n",
    "float\n",
    "list\n",
    "tuple\n",
    "dict\n",
    "set\n"
   ]
  },
  {
   "cell_type": "markdown",
   "id": "889bc8b0",
   "metadata": {},
   "source": [
    "## str"
   ]
  },
  {
   "cell_type": "code",
   "execution_count": 1,
   "id": "cd3c5a90",
   "metadata": {},
   "outputs": [
    {
     "data": {
      "text/plain": [
       "'abbb'"
      ]
     },
     "execution_count": 1,
     "metadata": {},
     "output_type": "execute_result"
    }
   ],
   "source": [
    "a = \"abbb\"  # declare/definition\n",
    "a"
   ]
  },
  {
   "cell_type": "code",
   "execution_count": 2,
   "id": "7ac8840b",
   "metadata": {},
   "outputs": [
    {
     "data": {
      "text/plain": [
       "'abbb addd'"
      ]
     },
     "execution_count": 2,
     "metadata": {},
     "output_type": "execute_result"
    }
   ],
   "source": [
    "a + \" addd\""
   ]
  },
  {
   "cell_type": "code",
   "execution_count": 3,
   "id": "51b693fb",
   "metadata": {},
   "outputs": [],
   "source": [
    "b = a + \" addd\""
   ]
  },
  {
   "cell_type": "code",
   "execution_count": 4,
   "id": "b820e5b2",
   "metadata": {},
   "outputs": [
    {
     "data": {
      "text/plain": [
       "'d'"
      ]
     },
     "execution_count": 4,
     "metadata": {},
     "output_type": "execute_result"
    }
   ],
   "source": [
    "b[-1]"
   ]
  },
  {
   "cell_type": "code",
   "execution_count": 5,
   "id": "2d16da8e",
   "metadata": {},
   "outputs": [
    {
     "data": {
      "text/plain": [
       "'abbb add'"
      ]
     },
     "execution_count": 5,
     "metadata": {},
     "output_type": "execute_result"
    }
   ],
   "source": [
    "b[:-1]"
   ]
  },
  {
   "cell_type": "code",
   "execution_count": 6,
   "id": "c5c0a96e",
   "metadata": {},
   "outputs": [
    {
     "data": {
      "text/plain": [
       "True"
      ]
     },
     "execution_count": 6,
     "metadata": {},
     "output_type": "execute_result"
    }
   ],
   "source": [
    "\"add\" in b"
   ]
  },
  {
   "cell_type": "markdown",
   "id": "1c7c3546",
   "metadata": {},
   "source": [
    "## int"
   ]
  },
  {
   "cell_type": "code",
   "execution_count": 7,
   "id": "6c95b333",
   "metadata": {},
   "outputs": [
    {
     "data": {
      "text/plain": [
       "1"
      ]
     },
     "execution_count": 7,
     "metadata": {},
     "output_type": "execute_result"
    }
   ],
   "source": [
    "1"
   ]
  },
  {
   "cell_type": "code",
   "execution_count": 8,
   "id": "582e3555",
   "metadata": {},
   "outputs": [],
   "source": [
    "c = 2"
   ]
  },
  {
   "cell_type": "code",
   "execution_count": 9,
   "id": "57963a8e",
   "metadata": {},
   "outputs": [
    {
     "data": {
      "text/plain": [
       "5"
      ]
     },
     "execution_count": 9,
     "metadata": {},
     "output_type": "execute_result"
    }
   ],
   "source": [
    "c + 3"
   ]
  },
  {
   "cell_type": "code",
   "execution_count": 10,
   "id": "0a5eae20",
   "metadata": {},
   "outputs": [],
   "source": [
    "d = \"4\""
   ]
  },
  {
   "cell_type": "code",
   "execution_count": 11,
   "id": "dd1819b5",
   "metadata": {},
   "outputs": [
    {
     "data": {
      "text/plain": [
       "'4'"
      ]
     },
     "execution_count": 11,
     "metadata": {},
     "output_type": "execute_result"
    }
   ],
   "source": [
    "d"
   ]
  },
  {
   "cell_type": "code",
   "execution_count": 12,
   "id": "aadd22d5",
   "metadata": {},
   "outputs": [
    {
     "data": {
      "text/plain": [
       "False"
      ]
     },
     "execution_count": 12,
     "metadata": {},
     "output_type": "execute_result"
    }
   ],
   "source": [
    "4 == d"
   ]
  },
  {
   "cell_type": "code",
   "execution_count": 13,
   "id": "cfcdaa03",
   "metadata": {},
   "outputs": [],
   "source": [
    "d = int(d)"
   ]
  },
  {
   "cell_type": "code",
   "execution_count": 14,
   "id": "6f11eed8",
   "metadata": {},
   "outputs": [],
   "source": [
    "d = d /3"
   ]
  },
  {
   "cell_type": "code",
   "execution_count": 15,
   "id": "84d8b1dd",
   "metadata": {},
   "outputs": [
    {
     "data": {
      "text/plain": [
       "float"
      ]
     },
     "execution_count": 15,
     "metadata": {},
     "output_type": "execute_result"
    }
   ],
   "source": [
    "type(d)   # py pro dynamic typing"
   ]
  },
  {
   "cell_type": "markdown",
   "id": "319de0c9",
   "metadata": {},
   "source": [
    "## float"
   ]
  },
  {
   "cell_type": "code",
   "execution_count": 16,
   "id": "ea28d4fd",
   "metadata": {},
   "outputs": [],
   "source": [
    "f = 3.145678"
   ]
  },
  {
   "cell_type": "code",
   "execution_count": 17,
   "id": "6e9a1e43",
   "metadata": {},
   "outputs": [
    {
     "data": {
      "text/plain": [
       "3.145678"
      ]
     },
     "execution_count": 17,
     "metadata": {},
     "output_type": "execute_result"
    }
   ],
   "source": [
    "f"
   ]
  },
  {
   "cell_type": "code",
   "execution_count": 18,
   "id": "4f2e3969",
   "metadata": {},
   "outputs": [
    {
     "data": {
      "text/plain": [
       "int"
      ]
     },
     "execution_count": 18,
     "metadata": {},
     "output_type": "execute_result"
    }
   ],
   "source": [
    "type(int(f))"
   ]
  },
  {
   "cell_type": "code",
   "execution_count": 19,
   "id": "c884af41",
   "metadata": {},
   "outputs": [
    {
     "data": {
      "text/plain": [
       "3.146"
      ]
     },
     "execution_count": 19,
     "metadata": {},
     "output_type": "execute_result"
    }
   ],
   "source": [
    "round(f, 3)"
   ]
  },
  {
   "cell_type": "code",
   "execution_count": 20,
   "id": "89953905",
   "metadata": {},
   "outputs": [
    {
     "data": {
      "text/plain": [
       "'3.145678'"
      ]
     },
     "execution_count": 20,
     "metadata": {},
     "output_type": "execute_result"
    }
   ],
   "source": [
    "str(f)"
   ]
  },
  {
   "cell_type": "code",
   "execution_count": 21,
   "id": "5945d8b4",
   "metadata": {},
   "outputs": [
    {
     "data": {
      "text/plain": [
       "'hello world3.145678'"
      ]
     },
     "execution_count": 21,
     "metadata": {},
     "output_type": "execute_result"
    }
   ],
   "source": [
    "'hello world' + str(f)"
   ]
  },
  {
   "cell_type": "code",
   "execution_count": 22,
   "id": "d05f2c7d",
   "metadata": {},
   "outputs": [
    {
     "data": {
      "text/plain": [
       "4.140000000000001"
      ]
     },
     "execution_count": 22,
     "metadata": {},
     "output_type": "execute_result"
    }
   ],
   "source": [
    "3.14 + 1"
   ]
  },
  {
   "cell_type": "markdown",
   "id": "3683533f",
   "metadata": {},
   "source": [
    "## list"
   ]
  },
  {
   "cell_type": "code",
   "execution_count": 1,
   "id": "382f15ea",
   "metadata": {},
   "outputs": [
    {
     "data": {
      "text/plain": [
       "[1, 2, 3, 4, 5]"
      ]
     },
     "execution_count": 1,
     "metadata": {},
     "output_type": "execute_result"
    }
   ],
   "source": [
    "g = [1,2,3,4,5]\n",
    "g"
   ]
  },
  {
   "cell_type": "code",
   "execution_count": 2,
   "id": "536dac4b",
   "metadata": {},
   "outputs": [
    {
     "data": {
      "text/plain": [
       "[1, 2, 3, 4, 5, 6]"
      ]
     },
     "execution_count": 2,
     "metadata": {},
     "output_type": "execute_result"
    }
   ],
   "source": [
    "g.append(6)\n",
    "g"
   ]
  },
  {
   "cell_type": "code",
   "execution_count": 3,
   "id": "2157d5c7",
   "metadata": {},
   "outputs": [
    {
     "data": {
      "text/plain": [
       "2"
      ]
     },
     "execution_count": 3,
     "metadata": {},
     "output_type": "execute_result"
    }
   ],
   "source": [
    "g[1]"
   ]
  },
  {
   "cell_type": "code",
   "execution_count": 4,
   "id": "aafd83b8",
   "metadata": {},
   "outputs": [
    {
     "data": {
      "text/plain": [
       "1"
      ]
     },
     "execution_count": 4,
     "metadata": {},
     "output_type": "execute_result"
    }
   ],
   "source": [
    "g[0]"
   ]
  },
  {
   "cell_type": "code",
   "execution_count": 5,
   "id": "daeedae2",
   "metadata": {},
   "outputs": [
    {
     "ename": "NameError",
     "evalue": "name 'd' is not defined",
     "output_type": "error",
     "traceback": [
      "\u001b[1;31m---------------------------------------------------------------------------\u001b[0m",
      "\u001b[1;31mNameError\u001b[0m                                 Traceback (most recent call last)",
      "\u001b[1;32m~\\AppData\\Local\\Temp\\ipykernel_27756\\1366049192.py\u001b[0m in \u001b[0;36m<module>\u001b[1;34m\u001b[0m\n\u001b[1;32m----> 1\u001b[1;33m \u001b[1;32mdel\u001b[0m \u001b[0md\u001b[0m\u001b[1;33m\u001b[0m\u001b[1;33m\u001b[0m\u001b[0m\n\u001b[0m",
      "\u001b[1;31mNameError\u001b[0m: name 'd' is not defined"
     ]
    }
   ],
   "source": [
    "del d"
   ]
  },
  {
   "cell_type": "code",
   "execution_count": null,
   "id": "5a416a8b",
   "metadata": {},
   "outputs": [],
   "source": [
    "d"
   ]
  },
  {
   "cell_type": "code",
   "execution_count": null,
   "id": "68ceec38",
   "metadata": {},
   "outputs": [],
   "source": [
    "del g[0]"
   ]
  },
  {
   "cell_type": "code",
   "execution_count": null,
   "id": "f3d5b444",
   "metadata": {},
   "outputs": [],
   "source": [
    "g"
   ]
  },
  {
   "cell_type": "code",
   "execution_count": null,
   "id": "c3d1ccef",
   "metadata": {},
   "outputs": [],
   "source": [
    "6 in g"
   ]
  },
  {
   "cell_type": "code",
   "execution_count": 7,
   "id": "a6d06a18",
   "metadata": {},
   "outputs": [
    {
     "data": {
      "text/plain": [
       "[7, 8, 9]"
      ]
     },
     "execution_count": 7,
     "metadata": {},
     "output_type": "execute_result"
    }
   ],
   "source": [
    "h = [7,8,9]\n",
    "h"
   ]
  },
  {
   "cell_type": "code",
   "execution_count": 8,
   "id": "fa7afc70",
   "metadata": {},
   "outputs": [
    {
     "data": {
      "text/plain": [
       "[1, 2, 3, 4, 5, 6, [7, 8, 9]]"
      ]
     },
     "execution_count": 8,
     "metadata": {},
     "output_type": "execute_result"
    }
   ],
   "source": [
    "g.append(h)\n",
    "g"
   ]
  },
  {
   "cell_type": "code",
   "execution_count": null,
   "id": "f42bf6dc",
   "metadata": {},
   "outputs": [],
   "source": [
    "del g[-1]"
   ]
  },
  {
   "cell_type": "code",
   "execution_count": 9,
   "id": "3c79f5a0",
   "metadata": {},
   "outputs": [
    {
     "data": {
      "text/plain": [
       "[1, 2, 3, 4, 5, 6, [7, 8, 9]]"
      ]
     },
     "execution_count": 9,
     "metadata": {},
     "output_type": "execute_result"
    }
   ],
   "source": [
    "g"
   ]
  },
  {
   "cell_type": "code",
   "execution_count": 10,
   "id": "ab83b491",
   "metadata": {},
   "outputs": [
    {
     "data": {
      "text/plain": [
       "[1, 2, 3, 4, 5, 6, [7, 8, 9], 7, 8, 9]"
      ]
     },
     "execution_count": 10,
     "metadata": {},
     "output_type": "execute_result"
    }
   ],
   "source": [
    "g.extend(h)\n",
    "g"
   ]
  },
  {
   "cell_type": "code",
   "execution_count": null,
   "id": "39a67326",
   "metadata": {},
   "outputs": [],
   "source": [
    "g[0] = 1\n",
    "g"
   ]
  },
  {
   "cell_type": "markdown",
   "id": "69567387",
   "metadata": {},
   "source": [
    "## tuple"
   ]
  },
  {
   "cell_type": "code",
   "execution_count": 29,
   "id": "9aa481e6",
   "metadata": {},
   "outputs": [
    {
     "data": {
      "text/plain": [
       "(1, 1, 1, 2, 3, 4, 5)"
      ]
     },
     "execution_count": 29,
     "metadata": {},
     "output_type": "execute_result"
    }
   ],
   "source": [
    "j = (1,1,1,2,3,4,5)\n",
    "j"
   ]
  },
  {
   "cell_type": "code",
   "execution_count": 30,
   "id": "195330b0",
   "metadata": {},
   "outputs": [
    {
     "ename": "TypeError",
     "evalue": "'tuple' object does not support item assignment",
     "output_type": "error",
     "traceback": [
      "\u001b[1;31m---------------------------------------------------------------------------\u001b[0m",
      "\u001b[1;31mTypeError\u001b[0m                                 Traceback (most recent call last)",
      "\u001b[1;32m~\\AppData\\Local\\Temp\\ipykernel_8852\\2097307876.py\u001b[0m in \u001b[0;36m<module>\u001b[1;34m\u001b[0m\n\u001b[1;32m----> 1\u001b[1;33m \u001b[0mj\u001b[0m\u001b[1;33m[\u001b[0m\u001b[1;36m0\u001b[0m\u001b[1;33m]\u001b[0m \u001b[1;33m=\u001b[0m \u001b[1;36m3\u001b[0m\u001b[1;33m\u001b[0m\u001b[1;33m\u001b[0m\u001b[0m\n\u001b[0m",
      "\u001b[1;31mTypeError\u001b[0m: 'tuple' object does not support item assignment"
     ]
    }
   ],
   "source": [
    "j[0] = 3"
   ]
  },
  {
   "cell_type": "code",
   "execution_count": 31,
   "id": "25a20b27",
   "metadata": {},
   "outputs": [
    {
     "data": {
      "text/plain": [
       "3"
      ]
     },
     "execution_count": 31,
     "metadata": {},
     "output_type": "execute_result"
    }
   ],
   "source": [
    "j.count(1)"
   ]
  },
  {
   "cell_type": "code",
   "execution_count": 32,
   "id": "1a80d442",
   "metadata": {},
   "outputs": [
    {
     "data": {
      "text/plain": [
       "4"
      ]
     },
     "execution_count": 32,
     "metadata": {},
     "output_type": "execute_result"
    }
   ],
   "source": [
    "j.index(3)"
   ]
  },
  {
   "cell_type": "code",
   "execution_count": 33,
   "id": "0679bc5f",
   "metadata": {},
   "outputs": [
    {
     "data": {
      "text/plain": [
       "(1, 1, 1, 2, 3, 4, 5, 6)"
      ]
     },
     "execution_count": 33,
     "metadata": {},
     "output_type": "execute_result"
    }
   ],
   "source": [
    "k = list(j)\n",
    "k.append(6)\n",
    "k\n",
    "j = tuple(k)\n",
    "j"
   ]
  },
  {
   "cell_type": "code",
   "execution_count": 34,
   "id": "ef8b505e",
   "metadata": {},
   "outputs": [
    {
     "data": {
      "text/plain": [
       "True"
      ]
     },
     "execution_count": 34,
     "metadata": {},
     "output_type": "execute_result"
    }
   ],
   "source": [
    "3 in j"
   ]
  },
  {
   "cell_type": "markdown",
   "id": "34b50ef6",
   "metadata": {},
   "source": [
    "## **** dict"
   ]
  },
  {
   "cell_type": "code",
   "execution_count": 35,
   "id": "f230f3ee",
   "metadata": {},
   "outputs": [
    {
     "data": {
      "text/plain": [
       "{'a': 1, 'b': 2, 'c': 3, 'd': 4}"
      ]
     },
     "execution_count": 35,
     "metadata": {},
     "output_type": "execute_result"
    }
   ],
   "source": [
    "m = {\"a\":1, \"b\":2, \"c\":3, \"d\":4}\n",
    "m"
   ]
  },
  {
   "cell_type": "code",
   "execution_count": 36,
   "id": "ef67dcde",
   "metadata": {},
   "outputs": [
    {
     "data": {
      "text/plain": [
       "dict_keys(['a', 'b', 'c', 'd'])"
      ]
     },
     "execution_count": 36,
     "metadata": {},
     "output_type": "execute_result"
    }
   ],
   "source": [
    "m.keys()"
   ]
  },
  {
   "cell_type": "code",
   "execution_count": 37,
   "id": "db7e5bff",
   "metadata": {},
   "outputs": [
    {
     "data": {
      "text/plain": [
       "dict_values([1, 2, 3, 4])"
      ]
     },
     "execution_count": 37,
     "metadata": {},
     "output_type": "execute_result"
    }
   ],
   "source": [
    "m.values()"
   ]
  },
  {
   "cell_type": "code",
   "execution_count": 38,
   "id": "5531c272",
   "metadata": {},
   "outputs": [
    {
     "data": {
      "text/plain": [
       "dict_items([('a', 1), ('b', 2), ('c', 3), ('d', 4)])"
      ]
     },
     "execution_count": 38,
     "metadata": {},
     "output_type": "execute_result"
    }
   ],
   "source": [
    "m.items()"
   ]
  },
  {
   "cell_type": "code",
   "execution_count": 39,
   "id": "fd091797",
   "metadata": {},
   "outputs": [],
   "source": [
    "m['c']=3"
   ]
  },
  {
   "cell_type": "code",
   "execution_count": 40,
   "id": "3dfc7a1a",
   "metadata": {},
   "outputs": [
    {
     "data": {
      "text/plain": [
       "{'a': 1, 'b': 2, 'c': 3, 'd': 4}"
      ]
     },
     "execution_count": 40,
     "metadata": {},
     "output_type": "execute_result"
    }
   ],
   "source": [
    "m"
   ]
  },
  {
   "cell_type": "code",
   "execution_count": 41,
   "id": "fe36e2f5",
   "metadata": {},
   "outputs": [],
   "source": [
    "m['e']=5"
   ]
  },
  {
   "cell_type": "code",
   "execution_count": 42,
   "id": "20943ea2",
   "metadata": {},
   "outputs": [
    {
     "data": {
      "text/plain": [
       "True"
      ]
     },
     "execution_count": 42,
     "metadata": {},
     "output_type": "execute_result"
    }
   ],
   "source": [
    "'b' in m"
   ]
  },
  {
   "cell_type": "code",
   "execution_count": 43,
   "id": "ee81951f",
   "metadata": {},
   "outputs": [
    {
     "data": {
      "text/plain": [
       "dict_keys(['a', 'b', 'c', 'd', 'e'])"
      ]
     },
     "execution_count": 43,
     "metadata": {},
     "output_type": "execute_result"
    }
   ],
   "source": [
    "m.keys()"
   ]
  },
  {
   "cell_type": "code",
   "execution_count": 44,
   "id": "34b88701",
   "metadata": {},
   "outputs": [
    {
     "data": {
      "text/plain": [
       "True"
      ]
     },
     "execution_count": 44,
     "metadata": {},
     "output_type": "execute_result"
    }
   ],
   "source": [
    "'b' in m.keys()"
   ]
  },
  {
   "cell_type": "code",
   "execution_count": 45,
   "id": "e24b90e9",
   "metadata": {},
   "outputs": [
    {
     "data": {
      "text/plain": [
       "True"
      ]
     },
     "execution_count": 45,
     "metadata": {},
     "output_type": "execute_result"
    }
   ],
   "source": [
    "1 in m.values()"
   ]
  },
  {
   "cell_type": "code",
   "execution_count": 46,
   "id": "056ab0ca",
   "metadata": {},
   "outputs": [
    {
     "data": {
      "text/plain": [
       "3"
      ]
     },
     "execution_count": 46,
     "metadata": {},
     "output_type": "execute_result"
    }
   ],
   "source": [
    "m.pop('c')"
   ]
  },
  {
   "cell_type": "code",
   "execution_count": null,
   "id": "25122592",
   "metadata": {},
   "outputs": [],
   "source": [
    "m"
   ]
  },
  {
   "cell_type": "code",
   "execution_count": null,
   "id": "1f41a4a7",
   "metadata": {},
   "outputs": [],
   "source": [
    "del m['d']"
   ]
  },
  {
   "cell_type": "code",
   "execution_count": null,
   "id": "4f5ac6c1",
   "metadata": {},
   "outputs": [],
   "source": [
    "m"
   ]
  },
  {
   "cell_type": "code",
   "execution_count": null,
   "id": "87561850",
   "metadata": {},
   "outputs": [],
   "source": [
    "m['c']=3\n",
    "m['d']=4"
   ]
  },
  {
   "cell_type": "code",
   "execution_count": null,
   "id": "748dc468",
   "metadata": {},
   "outputs": [],
   "source": [
    "m"
   ]
  },
  {
   "cell_type": "code",
   "execution_count": null,
   "id": "e2026d71",
   "metadata": {},
   "outputs": [],
   "source": [
    "for i in m.items():\n",
    "    print(i)"
   ]
  },
  {
   "cell_type": "code",
   "execution_count": null,
   "id": "c8d4ad0d",
   "metadata": {},
   "outputs": [],
   "source": [
    "m= sorted(m.items(), key= lambda item: item[1], reverse=True)"
   ]
  },
  {
   "cell_type": "code",
   "execution_count": null,
   "id": "1479fd7d",
   "metadata": {},
   "outputs": [],
   "source": [
    "m  # idx /key 로 불러올수 있으면 subscriptable"
   ]
  },
  {
   "cell_type": "code",
   "execution_count": null,
   "id": "440baf6a",
   "metadata": {},
   "outputs": [],
   "source": [
    "m = dict(m)\n",
    "m"
   ]
  },
  {
   "cell_type": "markdown",
   "id": "2249dee6",
   "metadata": {},
   "source": [
    "## set"
   ]
  },
  {
   "cell_type": "code",
   "execution_count": null,
   "id": "3c81efc5",
   "metadata": {},
   "outputs": [],
   "source": [
    "n = {\"apple\",\"apple\",\"banana\",\"banana\",\"cherry\",\"cherry\"}\n",
    "n"
   ]
  },
  {
   "cell_type": "code",
   "execution_count": null,
   "id": "bbeecef6",
   "metadata": {},
   "outputs": [],
   "source": [
    "n[1] "
   ]
  },
  {
   "cell_type": "code",
   "execution_count": null,
   "id": "de328365",
   "metadata": {},
   "outputs": [],
   "source": [
    "n.add(\"orange\")"
   ]
  },
  {
   "cell_type": "code",
   "execution_count": null,
   "id": "d80254c6",
   "metadata": {},
   "outputs": [],
   "source": [
    "n"
   ]
  },
  {
   "cell_type": "code",
   "execution_count": null,
   "id": "6a39e6cd",
   "metadata": {},
   "outputs": [],
   "source": [
    "n.remove(\"banana\")\n",
    "n"
   ]
  },
  {
   "cell_type": "code",
   "execution_count": null,
   "id": "0e92e17e",
   "metadata": {},
   "outputs": [],
   "source": [
    "n.add(\"orange\")\n",
    "n"
   ]
  },
  {
   "cell_type": "code",
   "execution_count": null,
   "id": "748ff196",
   "metadata": {},
   "outputs": [],
   "source": [
    "n.remove(\"banana\")\n",
    "n"
   ]
  },
  {
   "cell_type": "code",
   "execution_count": null,
   "id": "7e43b8e0",
   "metadata": {},
   "outputs": [],
   "source": [
    "n.discard(\"banana\")\n",
    "n"
   ]
  },
  {
   "cell_type": "code",
   "execution_count": null,
   "id": "b657bd6d",
   "metadata": {},
   "outputs": [],
   "source": [
    "try: \n",
    "    4/0\n",
    "except Exception as e:\n",
    "#    print(e)   # division by zero\" exception에서 걸리고 에러 메세지만 출력\n",
    "    raise e  # 에러판단"
   ]
  },
  {
   "cell_type": "code",
   "execution_count": null,
   "id": "02628c66",
   "metadata": {},
   "outputs": [],
   "source": [
    "try: \n",
    "    n.remove(\"banana\")\n",
    "except Exception as e:\n",
    "    print(e)\n",
    "    raise e  # 에러판단   # 다른 언어에 비해 연산비용이 적다"
   ]
  },
  {
   "cell_type": "code",
   "execution_count": 48,
   "id": "0b2d59d0",
   "metadata": {},
   "outputs": [
    {
     "data": {
      "text/plain": [
       "{'apple'}"
      ]
     },
     "execution_count": 48,
     "metadata": {},
     "output_type": "execute_result"
    }
   ],
   "source": [
    "x = {\"apple\", \"banana\", \"cherry\"}\n",
    "y = {\"google\", \"microsoft\", \"apple\"}\n",
    "z = x.intersection(y)\n",
    "z"
   ]
  },
  {
   "cell_type": "code",
   "execution_count": 49,
   "id": "0ba15a67",
   "metadata": {},
   "outputs": [
    {
     "data": {
      "text/plain": [
       "{'apple'}"
      ]
     },
     "execution_count": 49,
     "metadata": {},
     "output_type": "execute_result"
    }
   ],
   "source": [
    "x & y"
   ]
  },
  {
   "cell_type": "code",
   "execution_count": 50,
   "id": "b9f8397e",
   "metadata": {},
   "outputs": [
    {
     "name": "stdout",
     "output_type": "stream",
     "text": [
      "{'cherry', 'banana'}\n"
     ]
    }
   ],
   "source": [
    "x = {\"apple\", \"banana\", \"cherry\"}\n",
    "y = {\"google\", \"microsoft\", \"apple\"}\n",
    "\n",
    "z = x.difference(y)\n",
    "\n",
    "print(z)"
   ]
  },
  {
   "cell_type": "code",
   "execution_count": null,
   "id": "5283f802",
   "metadata": {},
   "outputs": [],
   "source": [
    "x- y"
   ]
  },
  {
   "cell_type": "code",
   "execution_count": 47,
   "id": "2d64a4ba",
   "metadata": {},
   "outputs": [
    {
     "name": "stdout",
     "output_type": "stream",
     "text": [
      "{'cherry', 'banana', 'google', 'microsoft'}\n"
     ]
    }
   ],
   "source": [
    "x = {\"apple\", \"banana\", \"cherry\"}\n",
    "y = {\"google\", \"microsoft\", \"apple\"}\n",
    "\n",
    "z = x.symmetric_difference(y)\n",
    "\n",
    "print(z)"
   ]
  },
  {
   "cell_type": "code",
   "execution_count": null,
   "id": "b690c46e",
   "metadata": {},
   "outputs": [],
   "source": []
  }
 ],
 "metadata": {
  "kernelspec": {
   "display_name": "myenv",
   "language": "python",
   "name": "myenv"
  },
  "language_info": {
   "codemirror_mode": {
    "name": "ipython",
    "version": 3
   },
   "file_extension": ".py",
   "mimetype": "text/x-python",
   "name": "python",
   "nbconvert_exporter": "python",
   "pygments_lexer": "ipython3",
   "version": "3.7.13"
  }
 },
 "nbformat": 4,
 "nbformat_minor": 5
}
