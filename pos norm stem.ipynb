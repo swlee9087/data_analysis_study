{
 "cells": [
  {
   "cell_type": "code",
   "execution_count": 1,
   "id": "dc437ea6",
   "metadata": {},
   "outputs": [],
   "source": [
    "from konlpy.tag import Okt\n",
    "okt = Okt()"
   ]
  },
  {
   "cell_type": "code",
   "execution_count": 9,
   "id": "7d293b31",
   "metadata": {},
   "outputs": [],
   "source": [
    "text = \"한국어를 처리하는 예시입니다 ㅋㅋ\""
   ]
  },
  {
   "cell_type": "code",
   "execution_count": 10,
   "id": "e7765906",
   "metadata": {},
   "outputs": [
    {
     "name": "stdout",
     "output_type": "stream",
     "text": [
      "[('한국어', 'Noun'), ('를', 'Josa'), ('처리', 'Noun'), ('하는', 'Verb'), ('예시', 'Noun'), ('입니다', 'Adjective'), ('ㅋㅋ', 'KoreanParticle')]\n"
     ]
    }
   ],
   "source": [
    "print(okt.pos(text))"
   ]
  },
  {
   "cell_type": "code",
   "execution_count": 11,
   "id": "50f55ae4",
   "metadata": {},
   "outputs": [
    {
     "name": "stdout",
     "output_type": "stream",
     "text": [
      "[('한국어', 'Noun'), ('를', 'Josa'), ('처리', 'Noun'), ('하는', 'Verb'), ('예시', 'Noun'), ('입니다', 'Adjective'), ('ㅋㅋ', 'KoreanParticle')]\n"
     ]
    }
   ],
   "source": [
    "print(okt.pos(text, norm=True))"
   ]
  },
  {
   "cell_type": "code",
   "execution_count": 12,
   "id": "fafe05a5",
   "metadata": {},
   "outputs": [
    {
     "name": "stdout",
     "output_type": "stream",
     "text": [
      "[('한국어', 'Noun'), ('를', 'Josa'), ('처리', 'Noun'), ('하다', 'Verb'), ('예시', 'Noun'), ('이다', 'Adjective'), ('ㅋㅋ', 'KoreanParticle')]\n"
     ]
    }
   ],
   "source": [
    "print(okt.pos(text, norm=True, stem=True))"
   ]
  },
  {
   "cell_type": "code",
   "execution_count": 4,
   "id": "3bc92429",
   "metadata": {},
   "outputs": [],
   "source": [
    "male = 423\n",
    "female = 5613\n",
    "total = male + female\n",
    "male_perc = (male / total) * 100\n",
    "female_perc = (female / total) * 100"
   ]
  },
  {
   "cell_type": "code",
   "execution_count": 2,
   "id": "66ef1817",
   "metadata": {},
   "outputs": [
    {
     "data": {
      "text/plain": [
       "6036"
      ]
     },
     "execution_count": 2,
     "metadata": {},
     "output_type": "execute_result"
    }
   ],
   "source": [
    "total"
   ]
  },
  {
   "cell_type": "code",
   "execution_count": 5,
   "id": "60fe0248",
   "metadata": {},
   "outputs": [
    {
     "data": {
      "text/plain": [
       "7.007952286282307"
      ]
     },
     "execution_count": 5,
     "metadata": {},
     "output_type": "execute_result"
    }
   ],
   "source": [
    "male_perc"
   ]
  },
  {
   "cell_type": "code",
   "execution_count": 6,
   "id": "5d1659d2",
   "metadata": {},
   "outputs": [
    {
     "data": {
      "text/plain": [
       "92.9920477137177"
      ]
     },
     "execution_count": 6,
     "metadata": {},
     "output_type": "execute_result"
    }
   ],
   "source": [
    "female_perc"
   ]
  },
  {
   "cell_type": "code",
   "execution_count": 1,
   "id": "f6d27b77",
   "metadata": {},
   "outputs": [],
   "source": [
    "twth = 4965\n",
    "frff = 1071\n",
    "total = twth + frff\n",
    "twth_perc = (twth / total) * 100\n",
    "frff_perc = (frff / total) * 100"
   ]
  },
  {
   "cell_type": "code",
   "execution_count": 2,
   "id": "60f23b7a",
   "metadata": {},
   "outputs": [
    {
     "data": {
      "text/plain": [
       "82.25646123260437"
      ]
     },
     "execution_count": 2,
     "metadata": {},
     "output_type": "execute_result"
    }
   ],
   "source": [
    "twth_perc"
   ]
  },
  {
   "cell_type": "code",
   "execution_count": 3,
   "id": "f6ec0663",
   "metadata": {},
   "outputs": [
    {
     "data": {
      "text/plain": [
       "17.743538767395624"
      ]
     },
     "execution_count": 3,
     "metadata": {},
     "output_type": "execute_result"
    }
   ],
   "source": [
    "frff_perc"
   ]
  },
  {
   "cell_type": "code",
   "execution_count": 4,
   "id": "b6277342",
   "metadata": {},
   "outputs": [
    {
     "data": {
      "text/plain": [
       "4.635854341736695"
      ]
     },
     "execution_count": 4,
     "metadata": {},
     "output_type": "execute_result"
    }
   ],
   "source": [
    "twth_perc/frff_perc"
   ]
  },
  {
   "cell_type": "code",
   "execution_count": null,
   "id": "34b73b89",
   "metadata": {},
   "outputs": [],
   "source": []
  }
 ],
 "metadata": {
  "kernelspec": {
   "display_name": "myenv",
   "language": "python",
   "name": "myenv"
  },
  "language_info": {
   "codemirror_mode": {
    "name": "ipython",
    "version": 3
   },
   "file_extension": ".py",
   "mimetype": "text/x-python",
   "name": "python",
   "nbconvert_exporter": "python",
   "pygments_lexer": "ipython3",
   "version": "3.7.13"
  }
 },
 "nbformat": 4,
 "nbformat_minor": 5
}
