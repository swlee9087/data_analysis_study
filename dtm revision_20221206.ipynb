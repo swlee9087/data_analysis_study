{
 "cells": [
  {
   "cell_type": "code",
   "execution_count": 1,
   "id": "bfcf953e",
   "metadata": {},
   "outputs": [],
   "source": [
    "# REF https://wikidocs.net/45609"
   ]
  },
  {
   "cell_type": "code",
   "execution_count": 2,
   "id": "199c270d",
   "metadata": {},
   "outputs": [],
   "source": [
    "from tensorflow.keras.preprocessing.text import Tokenizer\n",
    "from tqdm import tqdm"
   ]
  },
  {
   "cell_type": "code",
   "execution_count": 3,
   "id": "9c8aa1e6",
   "metadata": {},
   "outputs": [
    {
     "data": {
      "text/plain": [
       "['what', 'will', 'the', 'fat', 'cat', 'sit', 'on']"
      ]
     },
     "execution_count": 3,
     "metadata": {},
     "output_type": "execute_result"
    }
   ],
   "source": [
    "text = \"what will the fat cat sit on\"\n",
    "text = text.split()\n",
    "text"
   ]
  },
  {
   "cell_type": "code",
   "execution_count": 4,
   "id": "86c43a6e",
   "metadata": {},
   "outputs": [
    {
     "name": "stdout",
     "output_type": "stream",
     "text": [
      "{'what': 1, 'will': 2, 'the': 3, 'fat': 4, 'cat': 5, 'sit': 6, 'on': 7}\n"
     ]
    }
   ],
   "source": [
    "tokenizer = Tokenizer()\n",
    "tokenizer.fit_on_texts(text)  # text에 대해 정수인코딩\n",
    "print(tokenizer.word_index)"
   ]
  },
  {
   "cell_type": "code",
   "execution_count": 7,
   "id": "ba56cf98",
   "metadata": {},
   "outputs": [
    {
     "name": "stderr",
     "output_type": "stream",
     "text": [
      "100%|██████████████████████████████████████████████████████████████████████████████████| 4/4 [00:00<00:00, 1333.54it/s]"
     ]
    },
    {
     "name": "stdout",
     "output_type": "stream",
     "text": [
      "binary\n",
      "[[0. 1. 0. 0. 0. 0. 0. 0.]\n",
      " [0. 0. 1. 0. 0. 0. 0. 0.]\n",
      " [0. 0. 0. 1. 0. 0. 0. 0.]\n",
      " [0. 0. 0. 0. 1. 0. 0. 0.]\n",
      " [0. 0. 0. 0. 0. 1. 0. 0.]\n",
      " [0. 0. 0. 0. 0. 0. 1. 0.]\n",
      " [0. 0. 0. 0. 0. 0. 0. 1.]]\n",
      "\n",
      "count\n",
      "[[0. 1. 0. 0. 0. 0. 0. 0.]\n",
      " [0. 0. 1. 0. 0. 0. 0. 0.]\n",
      " [0. 0. 0. 1. 0. 0. 0. 0.]\n",
      " [0. 0. 0. 0. 1. 0. 0. 0.]\n",
      " [0. 0. 0. 0. 0. 1. 0. 0.]\n",
      " [0. 0. 0. 0. 0. 0. 1. 0.]\n",
      " [0. 0. 0. 0. 0. 0. 0. 1.]]\n",
      "\n",
      "tfidf\n",
      "[[0.        1.5040774 0.        0.        0.        0.        0.\n",
      "  0.       ]\n",
      " [0.        0.        1.5040774 0.        0.        0.        0.\n",
      "  0.       ]\n",
      " [0.        0.        0.        1.5040774 0.        0.        0.\n",
      "  0.       ]\n",
      " [0.        0.        0.        0.        1.5040774 0.        0.\n",
      "  0.       ]\n",
      " [0.        0.        0.        0.        0.        1.5040774 0.\n",
      "  0.       ]\n",
      " [0.        0.        0.        0.        0.        0.        1.5040774\n",
      "  0.       ]\n",
      " [0.        0.        0.        0.        0.        0.        0.\n",
      "  1.5040774]]\n",
      "\n",
      "freq\n",
      "[[0. 1. 0. 0. 0. 0. 0. 0.]\n",
      " [0. 0. 1. 0. 0. 0. 0. 0.]\n",
      " [0. 0. 0. 1. 0. 0. 0. 0.]\n",
      " [0. 0. 0. 0. 1. 0. 0. 0.]\n",
      " [0. 0. 0. 0. 0. 1. 0. 0.]\n",
      " [0. 0. 0. 0. 0. 0. 1. 0.]\n",
      " [0. 0. 0. 0. 0. 0. 0. 1.]]\n",
      "\n"
     ]
    },
    {
     "name": "stderr",
     "output_type": "stream",
     "text": [
      "\n"
     ]
    }
   ],
   "source": [
    "modes = ['binary', 'count', 'tfidf', 'freq'] \n",
    "for mode in tqdm(modes):\n",
    "    print(mode)\n",
    "    print(tokenizer.texts_to_matrix(text, mode = mode))\n",
    "    print()"
   ]
  },
  {
   "cell_type": "code",
   "execution_count": null,
   "id": "146e3944",
   "metadata": {},
   "outputs": [],
   "source": []
  }
 ],
 "metadata": {
  "kernelspec": {
   "display_name": "sd_env",
   "language": "python",
   "name": "sd_env"
  },
  "language_info": {
   "codemirror_mode": {
    "name": "ipython",
    "version": 3
   },
   "file_extension": ".py",
   "mimetype": "text/x-python",
   "name": "python",
   "nbconvert_exporter": "python",
   "pygments_lexer": "ipython3",
   "version": "3.7.12"
  }
 },
 "nbformat": 4,
 "nbformat_minor": 5
}
