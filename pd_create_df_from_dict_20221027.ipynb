{
 "cells": [
  {
   "cell_type": "raw",
   "id": "ee5fc245",
   "metadata": {},
   "source": [
    "# source -- https://sparkbyexamples.com/pandas/pandas-create-dataframe-from-dict-dictionary/"
   ]
  },
  {
   "cell_type": "code",
   "execution_count": 1,
   "id": "282ad125",
   "metadata": {},
   "outputs": [],
   "source": [
    "import pandas as pd"
   ]
  },
  {
   "cell_type": "code",
   "execution_count": 2,
   "id": "844d08fc",
   "metadata": {},
   "outputs": [
    {
     "name": "stdout",
     "output_type": "stream",
     "text": [
      "   Courses    Fee Duration\n",
      "0    Spark  20000   35days\n",
      "1  PySpark  20000   35days\n",
      "2     Java  15000   40days\n",
      "3      PHP  10000   30days\n"
     ]
    }
   ],
   "source": [
    "# Dict object\n",
    "courses = {'Courses':['Spark','PySpark','Java','PHP'],\n",
    "           'Fee':[20000,20000,15000,10000],\n",
    "           'Duration':['35days','35days','40days','30days']}\n",
    "\n",
    "# Create DataFrame from dict\n",
    "df1 = pd.DataFrame.from_dict(courses)\n",
    "print(df1)"
   ]
  },
  {
   "cell_type": "code",
   "execution_count": 3,
   "id": "2b6b5874",
   "metadata": {
    "scrolled": true
   },
   "outputs": [
    {
     "name": "stdout",
     "output_type": "stream",
     "text": [
      "   Courses    Fee\n",
      "0    Spark  20000\n",
      "1  PySpark  20000\n",
      "2     Java  15000\n",
      "3      PHP  10000\n"
     ]
    }
   ],
   "source": [
    "# Create for selected columns\n",
    "df2 = pd.DataFrame(courses, columns = ['Courses', 'Fee'])\n",
    "print(df2)"
   ]
  },
  {
   "cell_type": "code",
   "execution_count": 4,
   "id": "d1188b48",
   "metadata": {},
   "outputs": [
    {
     "name": "stdout",
     "output_type": "stream",
     "text": [
      "   Courses    Fee Duration\n",
      "0    Spark  20000   35days\n",
      "1  PySpark  20000   35days\n",
      "2     Java  15000   40days\n",
      "3      PHP  10000   30days\n"
     ]
    }
   ],
   "source": [
    "# Create from from_dict()\n",
    "df3 = pd.DataFrame.from_dict(courses)\n",
    "print(df3)"
   ]
  },
  {
   "cell_type": "code",
   "execution_count": 5,
   "id": "0165bec8",
   "metadata": {},
   "outputs": [
    {
     "name": "stdout",
     "output_type": "stream",
     "text": [
      "    Courses    Fee Duration\n",
      "r0    Spark  20000   35days\n",
      "r1  PySpark  20000   35days\n",
      "r2     Java  15000   40days\n",
      "r3      PHP  10000   30days\n"
     ]
    }
   ],
   "source": [
    "# Dict object\n",
    "courses = {'r0':['Spark',20000,'35days'],\n",
    "           'r1':['PySpark',20000,'35days'],\n",
    "           'r2':['Java',15000,'40days'],\n",
    "           'r3':['PHP',10000,'30days'],}\n",
    "columns=['Courses','Fee','Duration']\n",
    "\n",
    "# Create from from_dict() using orient=index\n",
    "df4 = pd.DataFrame.from_dict(courses, orient='index', columns=columns)\n",
    "print(df4)"
   ]
  },
  {
   "cell_type": "code",
   "execution_count": 6,
   "id": "1d14056f",
   "metadata": {},
   "outputs": [
    {
     "name": "stdout",
     "output_type": "stream",
     "text": [
      "    Courses    Fee Duration\n",
      "r0    Spark  20000   35days\n",
      "r1  PySpark  20000   35days\n",
      "r2     Java  15000   40days\n",
      "r3      PHP  10000   30days\n"
     ]
    }
   ],
   "source": [
    "# Creating from nested dictionary\n",
    "courses = {'r0':{'Courses':'Spark','Fee':'20000','Duration':'35days'},\n",
    "           'r1':{'Courses':'PySpark','Fee':'20000','Duration':'35days'},\n",
    "           'r2':{'Courses':'Java','Fee':'15000','Duration':'40days'},\n",
    "           'r3':{'Courses':'PHP','Fee':'10000','Duration':'30days'}}\n",
    "\n",
    "df5=pd.DataFrame(courses).transpose()\n",
    "print(df5)"
   ]
  }
 ],
 "metadata": {
  "kernelspec": {
   "display_name": "myenv",
   "language": "python",
   "name": "myenv"
  },
  "language_info": {
   "codemirror_mode": {
    "name": "ipython",
    "version": 3
   },
   "file_extension": ".py",
   "mimetype": "text/x-python",
   "name": "python",
   "nbconvert_exporter": "python",
   "pygments_lexer": "ipython3",
   "version": "3.7.13"
  }
 },
 "nbformat": 4,
 "nbformat_minor": 5
}
