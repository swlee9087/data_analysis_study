{
 "cells": [
  {
   "cell_type": "code",
   "execution_count": null,
   "metadata": {
    "id": "XoT1RMtQy8mt"
   },
   "outputs": [],
   "source": [
    "# https://wikidocs.net/152606"
   ]
  },
  {
   "cell_type": "raw",
   "metadata": {
    "id": "eN-GUkYNzAGL"
   },
   "source": [
    "!pip install wikiextractor"
   ]
  },
  {
   "cell_type": "raw",
   "metadata": {
    "id": "vLQaPVStzAyI"
   },
   "source": [
    "# Colab에 Mecab 설치\n",
    "!git clone https://github.com/SOMJANG/Mecab-ko-for-Google-Colab.git\n",
    "%cd Mecab-ko-for-Google-Colab\n",
    "!bash install_mecab-ko_on_colab190912.sh"
   ]
  },
  {
   "cell_type": "raw",
   "metadata": {
    "id": "uu9A0aBgzC3f"
   },
   "source": [
    "!wget https://dumps.wikimedia.org/kowiki/latest/kowiki-latest-pages-articles.xml.bz2   # 위키피디아 덤프(위키피디아 데이터)를 다운로드. "
   ]
  },
  {
   "cell_type": "code",
   "execution_count": 5,
   "metadata": {
    "id": "9bL4ifGRzE7v"
   },
   "outputs": [
    {
     "name": "stderr",
     "output_type": "stream",
     "text": [
      "INFO: Preprocessing 'kowiki-latest-pages-articles.xml.bz2' to collect template definitions: this may take some time.\n",
      "INFO: Preprocessed 100000 pages\n",
      "INFO: Preprocessed 200000 pages\n",
      "INFO: Preprocessed 300000 pages\n",
      "INFO: Preprocessed 400000 pages\n",
      "INFO: Preprocessed 500000 pages\n",
      "INFO: Preprocessed 600000 pages\n",
      "INFO: Preprocessed 700000 pages\n",
      "INFO: Preprocessed 800000 pages\n",
      "INFO: Preprocessed 900000 pages\n",
      "INFO: Preprocessed 1000000 pages\n",
      "INFO: Preprocessed 1100000 pages\n",
      "INFO: Preprocessed 1200000 pages\n",
      "INFO: Preprocessed 1300000 pages\n",
      "INFO: Preprocessed 1400000 pages\n",
      "INFO: Preprocessed 1500000 pages\n",
      "INFO: Preprocessed 1600000 pages\n",
      "INFO: Preprocessed 1700000 pages\n",
      "INFO: Loaded 61149 templates in 208.8s\n",
      "INFO: Starting page extraction from kowiki-latest-pages-articles.xml.bz2.\n",
      "Traceback (most recent call last):\n",
      "  File \"D:\\Anaconda3\\envs\\sd_env\\lib\\runpy.py\", line 193, in _run_module_as_main\n",
      "    \"__main__\", mod_spec)\n",
      "  File \"D:\\Anaconda3\\envs\\sd_env\\lib\\runpy.py\", line 85, in _run_code\n",
      "    exec(code, run_globals)\n",
      "  File \"D:\\Anaconda3\\envs\\sd_env\\lib\\site-packages\\wikiextractor\\WikiExtractor.py\", line 645, in <module>\n",
      "    main()\n",
      "  File \"D:\\Anaconda3\\envs\\sd_env\\lib\\site-packages\\wikiextractor\\WikiExtractor.py\", line 641, in main\n",
      "    args.compress, args.processes, args.html_safe)\n",
      "  File \"D:\\Anaconda3\\envs\\sd_env\\lib\\site-packages\\wikiextractor\\WikiExtractor.py\", line 359, in process_dump\n",
      "    Process = get_context(\"fork\").Process\n",
      "  File \"D:\\Anaconda3\\envs\\sd_env\\lib\\multiprocessing\\context.py\", line 238, in get_context\n",
      "    return super().get_context(method)\n",
      "  File \"D:\\Anaconda3\\envs\\sd_env\\lib\\multiprocessing\\context.py\", line 192, in get_context\n",
      "    raise ValueError('cannot find context for %r' % method) from None\n",
      "ValueError: cannot find context for 'fork'\n"
     ]
    }
   ],
   "source": [
    "# 위키익스트랙터를 사용하여 위키피디아 덤프를 파싱.\n",
    "!python -m wikiextractor.WikiExtractor kowiki-latest-pages-articles.xml.bz2  "
   ]
  },
  {
   "cell_type": "code",
   "execution_count": 6,
   "metadata": {
    "id": "YsJ51lgbzITt"
   },
   "outputs": [
    {
     "name": "stdout",
     "output_type": "stream",
     "text": [
      " D 드라이브의 볼륨: DATA\n",
      " 볼륨 일련 번호: 3ACE-E71D\n",
      "\n",
      " D:\\siwon_20221107on\\personal_save\\else 디렉터리\n",
      "\n",
      "\n",
      " D:\\siwon_20221107on\\personal_save\\else 디렉터리\n",
      "\n",
      "\n",
      " D:\\siwon_20221107on\\personal_save\\else 디렉터리\n",
      "\n",
      "\n",
      " D:\\siwon_20221107on\\personal_save\\else 디렉터리\n",
      "\n",
      "\n",
      " D:\\siwon_20221107on\\personal_save\\else 디렉터리\n",
      "\n",
      "\n",
      " D:\\siwon_20221107on\\personal_save\\else 디렉터리\n",
      "\n",
      "\n",
      " D:\\siwon_20221107on\\personal_save\\else 디렉터리\n",
      "\n"
     ]
    },
    {
     "name": "stderr",
     "output_type": "stream",
     "text": [
      "파일을 찾을 수 없습니다.\n"
     ]
    }
   ],
   "source": [
    "%ls  # 현재 경로에 있는 디렉토리와 파일들의 리스트."
   ]
  },
  {
   "cell_type": "code",
   "execution_count": 7,
   "metadata": {
    "id": "e0Jrv04BzJUt"
   },
   "outputs": [
    {
     "data": {
      "text/plain": [
       "['AA']"
      ]
     },
     "execution_count": 7,
     "metadata": {},
     "output_type": "execute_result"
    }
   ],
   "source": [
    "import os\n",
    "import re\n",
    "os.listdir('text')  # 예시에는 9개, 여기는 10개 됬음. "
   ]
  },
  {
   "cell_type": "code",
   "execution_count": 8,
   "metadata": {
    "id": "l-zG7vRfzSuM"
   },
   "outputs": [
    {
     "name": "stdout",
     "output_type": "stream",
     "text": [
      " D 드라이브의 볼륨: DATA\n",
      " 볼륨 일련 번호: 3ACE-E71D\n",
      "\n",
      " D:\\siwon_20221107on\\personal_save\\else\\text 디렉터리\n",
      "\n",
      "\n",
      " D:\\siwon_20221107on\\personal_save\\else 디렉터리\n",
      "\n",
      "\n",
      " D:\\siwon_20221107on\\personal_save\\else 디렉터리\n",
      "\n",
      "\n",
      " D:\\siwon_20221107on\\personal_save\\else 디렉터리\n",
      "\n",
      "\n",
      " D:\\siwon_20221107on\\personal_save\\else 디렉터리\n",
      "\n"
     ]
    },
    {
     "name": "stderr",
     "output_type": "stream",
     "text": [
      "파일을 찾을 수 없습니다.\n",
      "파일을 찾을 수 없습니다.\n"
     ]
    }
   ],
   "source": [
    "%ls text/AA  # 디렉토리의 파일들을 확인."
   ]
  },
  {
   "cell_type": "code",
   "execution_count": 9,
   "metadata": {
    "id": "wawTKI2GzZ7q"
   },
   "outputs": [],
   "source": [
    "def list_wiki(dirname):  #  6개 AA ~ AF 디렉토리 안의 wiki 숫자 형태의 수많은 파일들을 하나로 통합하는 과정. \n",
    "    filepaths = []  # 모든 파일들의 경로를 파이썬의 리스트 형태로 저장. \n",
    "    filenames = os.listdir(dirname)\n",
    "    for filename in filenames:\n",
    "        filepath = os.path.join(dirname, filename)\n",
    "\n",
    "        if os.path.isdir(filepath):\n",
    "            # 재귀 함수\n",
    "            filepaths.extend(list_wiki(filepath))\n",
    "        else:\n",
    "            find = re.findall(r\"wiki_[0-9][0-9]\", filepath)\n",
    "            if 0 < len(find):\n",
    "                filepaths.append(filepath)\n",
    "    return sorted(filepaths)"
   ]
  },
  {
   "cell_type": "code",
   "execution_count": 10,
   "metadata": {
    "id": "MAxK0Ia1z5bV"
   },
   "outputs": [],
   "source": [
    "filepaths = list_wiki('text')"
   ]
  },
  {
   "cell_type": "code",
   "execution_count": 11,
   "metadata": {
    "id": "GOZ2SwEGz6NU"
   },
   "outputs": [
    {
     "data": {
      "text/plain": [
       "1"
      ]
     },
     "execution_count": 11,
     "metadata": {},
     "output_type": "execute_result"
    }
   ],
   "source": [
    "len(filepaths)"
   ]
  },
  {
   "cell_type": "code",
   "execution_count": 12,
   "metadata": {
    "id": "1NuA5yXQz8W8"
   },
   "outputs": [],
   "source": [
    "with open(\"output_file.txt\", \"w\") as outfile:  # 파일에 850//929개의 파일을 전부 하나로 합. \n",
    "    for filename in filepaths:\n",
    "        with open(filename) as infile:\n",
    "            contents = infile.read()\n",
    "            outfile.write(contents)"
   ]
  },
  {
   "cell_type": "code",
   "execution_count": 13,
   "metadata": {
    "id": "cJswlySH0CkZ"
   },
   "outputs": [
    {
     "name": "stdout",
     "output_type": "stream",
     "text": [
      "1번째 줄 :\n",
      "2번째 줄 :\n",
      "3번째 줄 :\n",
      "4번째 줄 :\n",
      "5번째 줄 :\n",
      "6번째 줄 :\n",
      "7번째 줄 :\n",
      "8번째 줄 :\n",
      "9번째 줄 :\n",
      "10번째 줄 :\n"
     ]
    }
   ],
   "source": [
    "f = open('output_file.txt', encoding=\"utf8\")\n",
    "\n",
    "i = 0\n",
    "while True:\n",
    "    line = f.readline()\n",
    "    if line != '\\n':\n",
    "        i = i+1\n",
    "        print(\"%d번째 줄 :\"%i + line)\n",
    "    if i==10:\n",
    "        break \n",
    "f.close()"
   ]
  },
  {
   "cell_type": "code",
   "execution_count": 14,
   "metadata": {
    "id": "JtLzGM8M0F9S"
   },
   "outputs": [
    {
     "ename": "Exception",
     "evalue": "Install MeCab in order to use it: http://konlpy.org/en/latest/install/",
     "output_type": "error",
     "traceback": [
      "\u001b[1;31m---------------------------------------------------------------------------\u001b[0m",
      "\u001b[1;31mNameError\u001b[0m                                 Traceback (most recent call last)",
      "\u001b[1;32mD:\\Anaconda3\\envs\\sd_env\\lib\\site-packages\\konlpy\\tag\\_mecab.py\u001b[0m in \u001b[0;36m__init__\u001b[1;34m(self, dicpath)\u001b[0m\n\u001b[0;32m     76\u001b[0m         \u001b[1;32mtry\u001b[0m\u001b[1;33m:\u001b[0m\u001b[1;33m\u001b[0m\u001b[1;33m\u001b[0m\u001b[0m\n\u001b[1;32m---> 77\u001b[1;33m             \u001b[0mself\u001b[0m\u001b[1;33m.\u001b[0m\u001b[0mtagger\u001b[0m \u001b[1;33m=\u001b[0m \u001b[0mTagger\u001b[0m\u001b[1;33m(\u001b[0m\u001b[1;34m'-d %s'\u001b[0m \u001b[1;33m%\u001b[0m \u001b[0mdicpath\u001b[0m\u001b[1;33m)\u001b[0m\u001b[1;33m\u001b[0m\u001b[1;33m\u001b[0m\u001b[0m\n\u001b[0m\u001b[0;32m     78\u001b[0m             \u001b[0mself\u001b[0m\u001b[1;33m.\u001b[0m\u001b[0mtagset\u001b[0m \u001b[1;33m=\u001b[0m \u001b[0mutils\u001b[0m\u001b[1;33m.\u001b[0m\u001b[0mread_json\u001b[0m\u001b[1;33m(\u001b[0m\u001b[1;34m'%s/data/tagset/mecab.json'\u001b[0m \u001b[1;33m%\u001b[0m \u001b[0mutils\u001b[0m\u001b[1;33m.\u001b[0m\u001b[0minstallpath\u001b[0m\u001b[1;33m)\u001b[0m\u001b[1;33m\u001b[0m\u001b[1;33m\u001b[0m\u001b[0m\n",
      "\u001b[1;31mNameError\u001b[0m: name 'Tagger' is not defined",
      "\nDuring handling of the above exception, another exception occurred:\n",
      "\u001b[1;31mException\u001b[0m                                 Traceback (most recent call last)",
      "\u001b[1;32m~\\AppData\\Local\\Temp\\ipykernel_32448\\3075005478.py\u001b[0m in \u001b[0;36m<module>\u001b[1;34m\u001b[0m\n\u001b[0;32m      1\u001b[0m \u001b[1;32mfrom\u001b[0m \u001b[0mtqdm\u001b[0m \u001b[1;32mimport\u001b[0m \u001b[0mtqdm\u001b[0m\u001b[1;33m\u001b[0m\u001b[1;33m\u001b[0m\u001b[0m\n\u001b[0;32m      2\u001b[0m \u001b[1;32mfrom\u001b[0m \u001b[0mkonlpy\u001b[0m\u001b[1;33m.\u001b[0m\u001b[0mtag\u001b[0m \u001b[1;32mimport\u001b[0m \u001b[1;33m*\u001b[0m\u001b[1;33m\u001b[0m\u001b[1;33m\u001b[0m\u001b[0m\n\u001b[1;32m----> 3\u001b[1;33m \u001b[0mmecab\u001b[0m \u001b[1;33m=\u001b[0m \u001b[0mMecab\u001b[0m\u001b[1;33m(\u001b[0m\u001b[1;33m)\u001b[0m\u001b[1;33m\u001b[0m\u001b[1;33m\u001b[0m\u001b[0m\n\u001b[0m\u001b[0;32m      4\u001b[0m \u001b[1;31m# kkma = Kkma()\u001b[0m\u001b[1;33m\u001b[0m\u001b[1;33m\u001b[0m\u001b[1;33m\u001b[0m\u001b[0m\n\u001b[0;32m      5\u001b[0m \u001b[1;31m# kmr = Komoran()\u001b[0m\u001b[1;33m\u001b[0m\u001b[1;33m\u001b[0m\u001b[1;33m\u001b[0m\u001b[0m\n",
      "\u001b[1;32mD:\\Anaconda3\\envs\\sd_env\\lib\\site-packages\\konlpy\\tag\\_mecab.py\u001b[0m in \u001b[0;36m__init__\u001b[1;34m(self, dicpath)\u001b[0m\n\u001b[0;32m     80\u001b[0m             \u001b[1;32mraise\u001b[0m \u001b[0mException\u001b[0m\u001b[1;33m(\u001b[0m\u001b[1;34m'The MeCab dictionary does not exist at \"%s\". Is the dictionary correctly installed?\\nYou can also try entering the dictionary path when initializing the Mecab class: \"Mecab(\\'/some/dic/path\\')\"'\u001b[0m \u001b[1;33m%\u001b[0m \u001b[0mdicpath\u001b[0m\u001b[1;33m)\u001b[0m\u001b[1;33m\u001b[0m\u001b[1;33m\u001b[0m\u001b[0m\n\u001b[0;32m     81\u001b[0m         \u001b[1;32mexcept\u001b[0m \u001b[0mNameError\u001b[0m\u001b[1;33m:\u001b[0m\u001b[1;33m\u001b[0m\u001b[1;33m\u001b[0m\u001b[0m\n\u001b[1;32m---> 82\u001b[1;33m             \u001b[1;32mraise\u001b[0m \u001b[0mException\u001b[0m\u001b[1;33m(\u001b[0m\u001b[1;34m'Install MeCab in order to use it: http://konlpy.org/en/latest/install/'\u001b[0m\u001b[1;33m)\u001b[0m\u001b[1;33m\u001b[0m\u001b[1;33m\u001b[0m\u001b[0m\n\u001b[0m\u001b[0;32m     83\u001b[0m \u001b[1;33m\u001b[0m\u001b[0m\n\u001b[0;32m     84\u001b[0m     \u001b[1;32mdef\u001b[0m \u001b[0m__setstate__\u001b[0m\u001b[1;33m(\u001b[0m\u001b[0mself\u001b[0m\u001b[1;33m,\u001b[0m \u001b[0mstate\u001b[0m\u001b[1;33m)\u001b[0m\u001b[1;33m:\u001b[0m\u001b[1;33m\u001b[0m\u001b[1;33m\u001b[0m\u001b[0m\n",
      "\u001b[1;31mException\u001b[0m: Install MeCab in order to use it: http://konlpy.org/en/latest/install/"
     ]
    }
   ],
   "source": [
    "from tqdm import tqdm\n",
    "from konlpy.tag import * \n",
    "mecab = Mecab()\n",
    "# kkma = Kkma()\n",
    "# kmr = Komoran()\n",
    "okt= Okt()"
   ]
  },
  {
   "cell_type": "code",
   "execution_count": null,
   "metadata": {
    "id": "OPDN7Qc50Ja5"
   },
   "outputs": [],
   "source": [
    "f = open('output_file.txt', encoding=\"utf8\")  # output_file에는 총 몇 줄이 있는지 확인.\n",
    "lines = f.read().splitlines()\n",
    "print(len(lines))  # 디렉터리 1개 추가된 만큼, 9718793//10565837줄 있음. "
   ]
  },
  {
   "cell_type": "code",
   "execution_count": null,
   "metadata": {
    "id": "nYaK0wwU0aeP"
   },
   "outputs": [],
   "source": [
    "result = []\n",
    "\n",
    "for line in tqdm(lines):\n",
    "  # 빈 문자열이 아닌 경우에만 수행\n",
    "  if line:\n",
    "    result.append(mecab.morphs(line))  # 빈 문자열은 제외하고 형태소 분석. 토큰화 완료. "
   ]
  },
  {
   "cell_type": "code",
   "execution_count": null,
   "metadata": {
    "id": "0xM0vHE10ffs"
   },
   "outputs": [],
   "source": [
    "len(result)"
   ]
  },
  {
   "cell_type": "code",
   "execution_count": null,
   "metadata": {
    "id": "vzgAJyEE0kPF"
   },
   "outputs": [],
   "source": [
    "from gensim.models import Word2Vec\n",
    "model = Word2Vec(result, size=100, window=5, min_count=5, workers=4, sg=0)"
   ]
  },
  {
   "cell_type": "code",
   "execution_count": null,
   "metadata": {
    "id": "ca4YMMSC0v3b"
   },
   "outputs": [],
   "source": [
    "model.wv.most_similar(\"대한민국\")"
   ]
  },
  {
   "cell_type": "code",
   "execution_count": null,
   "metadata": {
    "id": "w1OCDQ2n0yU5"
   },
   "outputs": [],
   "source": []
  }
 ],
 "metadata": {
  "accelerator": "GPU",
  "colab": {
   "private_outputs": true,
   "provenance": []
  },
  "gpuClass": "standard",
  "kernelspec": {
   "display_name": "Python 3 (ipykernel)",
   "language": "python",
   "name": "python3"
  },
  "language_info": {
   "codemirror_mode": {
    "name": "ipython",
    "version": 3
   },
   "file_extension": ".py",
   "mimetype": "text/x-python",
   "name": "python",
   "nbconvert_exporter": "python",
   "pygments_lexer": "ipython3",
   "version": "3.7.12"
  }
 },
 "nbformat": 4,
 "nbformat_minor": 1
}
