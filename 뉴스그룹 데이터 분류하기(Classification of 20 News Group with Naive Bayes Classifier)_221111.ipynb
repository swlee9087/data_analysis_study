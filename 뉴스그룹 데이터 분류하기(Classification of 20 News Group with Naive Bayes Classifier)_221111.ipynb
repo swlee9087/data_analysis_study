{
 "cells": [
  {
   "cell_type": "code",
   "execution_count": 1,
   "id": "a2fa0e1d",
   "metadata": {},
   "outputs": [
    {
     "name": "stdout",
     "output_type": "stream",
     "text": [
      "dict_keys(['data', 'filenames', 'target_names', 'target', 'DESCR'])\n"
     ]
    }
   ],
   "source": [
    "from sklearn.datasets import fetch_20newsgroups\n",
    "newsdata=fetch_20newsgroups(subset='train')\n",
    "print(newsdata.keys())"
   ]
  },
  {
   "cell_type": "code",
   "execution_count": 3,
   "id": "d0b77b34",
   "metadata": {},
   "outputs": [
    {
     "data": {
      "text/plain": [
       "(11314, 11314, 20, 11314)"
      ]
     },
     "execution_count": 3,
     "metadata": {},
     "output_type": "execute_result"
    }
   ],
   "source": [
    "len(newsdata.data), len(newsdata.filenames), len(newsdata.target_names), len(newsdata.target) # train set size"
   ]
  },
  {
   "cell_type": "code",
   "execution_count": 4,
   "id": "9ecd5a34",
   "metadata": {
    "scrolled": true
   },
   "outputs": [
    {
     "data": {
      "text/plain": [
       "['alt.atheism',\n",
       " 'comp.graphics',\n",
       " 'comp.os.ms-windows.misc',\n",
       " 'comp.sys.ibm.pc.hardware',\n",
       " 'comp.sys.mac.hardware',\n",
       " 'comp.windows.x',\n",
       " 'misc.forsale',\n",
       " 'rec.autos',\n",
       " 'rec.motorcycles',\n",
       " 'rec.sport.baseball',\n",
       " 'rec.sport.hockey',\n",
       " 'sci.crypt',\n",
       " 'sci.electronics',\n",
       " 'sci.med',\n",
       " 'sci.space',\n",
       " 'soc.religion.christian',\n",
       " 'talk.politics.guns',\n",
       " 'talk.politics.mideast',\n",
       " 'talk.politics.misc',\n",
       " 'talk.religion.misc']"
      ]
     },
     "execution_count": 4,
     "metadata": {},
     "output_type": "execute_result"
    }
   ],
   "source": [
    "newsdata.target_names # train set cats"
   ]
  },
  {
   "cell_type": "code",
   "execution_count": 5,
   "id": "ceea4ccd",
   "metadata": {
    "scrolled": true
   },
   "outputs": [
    {
     "data": {
      "text/plain": [
       "7"
      ]
     },
     "execution_count": 5,
     "metadata": {},
     "output_type": "execute_result"
    }
   ],
   "source": [
    "newsdata.target[0] # cat of first sample"
   ]
  },
  {
   "cell_type": "code",
   "execution_count": 6,
   "id": "e74b2e84",
   "metadata": {},
   "outputs": [
    {
     "data": {
      "text/plain": [
       "array([7, 4, 4, ..., 3, 1, 8])"
      ]
     },
     "execution_count": 6,
     "metadata": {},
     "output_type": "execute_result"
    }
   ],
   "source": [
    "newsdata.target"
   ]
  },
  {
   "cell_type": "code",
   "execution_count": 7,
   "id": "45c737a6",
   "metadata": {},
   "outputs": [
    {
     "data": {
      "text/plain": [
       "'rec.autos'"
      ]
     },
     "execution_count": 7,
     "metadata": {},
     "output_type": "execute_result"
    }
   ],
   "source": [
    "newsdata.target_names[7]  # 7th cat name"
   ]
  },
  {
   "cell_type": "code",
   "execution_count": 8,
   "id": "6bec3e71",
   "metadata": {},
   "outputs": [
    {
     "name": "stdout",
     "output_type": "stream",
     "text": [
      "From: lerxst@wam.umd.edu (where's my thing)\n",
      "Subject: WHAT car is this!?\n",
      "Nntp-Posting-Host: rac3.wam.umd.edu\n",
      "Organization: University of Maryland, College Park\n",
      "Lines: 15\n",
      "\n",
      " I was wondering if anyone out there could enlighten me on this car I saw\n",
      "the other day. It was a 2-door sports car, looked to be from the late 60s/\n",
      "early 70s. It was called a Bricklin. The doors were really small. In addition,\n",
      "the front bumper was separate from the rest of the body. This is \n",
      "all I know. If anyone can tellme a model name, engine specs, years\n",
      "of production, where this car is made, history, or whatever info you\n",
      "have on this funky looking car, please e-mail.\n",
      "\n",
      "Thanks,\n",
      "- IL\n",
      "   ---- brought to you by your neighborhood Lerxst ----\n",
      "\n",
      "\n",
      "\n",
      "\n",
      "\n"
     ]
    }
   ],
   "source": [
    "print(newsdata.data[0])  # contents of first sample"
   ]
  },
  {
   "cell_type": "code",
   "execution_count": 29,
   "id": "7a751e83",
   "metadata": {},
   "outputs": [
    {
     "data": {
      "text/plain": [
       "(['alt.atheism',\n",
       "  'comp.graphics',\n",
       "  'comp.os.ms-windows.misc',\n",
       "  'comp.sys.ibm.pc.hardware',\n",
       "  'comp.sys.mac.hardware',\n",
       "  'comp.windows.x',\n",
       "  'misc.forsale',\n",
       "  'rec.autos',\n",
       "  'rec.motorcycles',\n",
       "  'rec.sport.baseball',\n",
       "  'rec.sport.hockey',\n",
       "  'sci.crypt',\n",
       "  'sci.electronics',\n",
       "  'sci.med',\n",
       "  'sci.space',\n",
       "  'soc.religion.christian',\n",
       "  'talk.politics.guns',\n",
       "  'talk.politics.mideast',\n",
       "  'talk.politics.misc',\n",
       "  'talk.religion.misc'],\n",
       " 11314)"
      ]
     },
     "execution_count": 29,
     "metadata": {},
     "output_type": "execute_result"
    }
   ],
   "source": [
    "newsdata.target_names, len(newsdata.target)"
   ]
  },
  {
   "cell_type": "code",
   "execution_count": 65,
   "id": "881c0ca2",
   "metadata": {},
   "outputs": [
    {
     "data": {
      "text/plain": [
       "(19, 0)"
      ]
     },
     "execution_count": 65,
     "metadata": {},
     "output_type": "execute_result"
    }
   ],
   "source": [
    "import numpy as np\n",
    "np.max(newsdata.target), np.min(newsdata.target), \n"
   ]
  },
  {
   "cell_type": "code",
   "execution_count": 9,
   "id": "c5526d4c",
   "metadata": {},
   "outputs": [],
   "source": [
    "# preprocessing on train set newsdata.data;; totally not tokenized => make into BoW with CountVectorizer\n",
    "from sklearn.feature_extraction.text import CountVectorizer\n",
    "from sklearn.feature_extraction.text import TfidfTransformer\n",
    "from sklearn.naive_bayes import * \n",
    "from sklearn.metrics import accuracy_score #정확도 계산"
   ]
  },
  {
   "cell_type": "code",
   "execution_count": 10,
   "id": "71459e4b",
   "metadata": {},
   "outputs": [
    {
     "data": {
      "text/plain": [
       "(11314, 130107)"
      ]
     },
     "execution_count": 10,
     "metadata": {},
     "output_type": "execute_result"
    }
   ],
   "source": [
    "dtmvector = CountVectorizer() # makes DocumentTermMatrix array\n",
    "X_train_dtm = dtmvector.fit_transform(newsdata.data)\n",
    "X_train_dtm.shape  # train sample count, total num of tks throughout entire train set"
   ]
  },
  {
   "cell_type": "code",
   "execution_count": 11,
   "id": "571e7548",
   "metadata": {},
   "outputs": [
    {
     "name": "stdout",
     "output_type": "stream",
     "text": [
      "(11314, 130107)\n"
     ]
    }
   ],
   "source": [
    "# TF-IDF 가중치를 적용한 TF-IDF 행렬을 입력으로 텍스트 분류를 수행하면, 성능의 개선\n",
    "tfidf_transformer = TfidfTransformer()\n",
    "tfidfv = tfidf_transformer.fit_transform(X_train_dtm)\n",
    "print(tfidfv.shape)"
   ]
  },
  {
   "cell_type": "markdown",
   "id": "6c697add",
   "metadata": {},
   "source": [
    "#### MultinomialNB"
   ]
  },
  {
   "cell_type": "code",
   "execution_count": 12,
   "id": "2862f034",
   "metadata": {},
   "outputs": [
    {
     "data": {
      "text/plain": [
       "MultinomialNB()"
      ]
     },
     "execution_count": 12,
     "metadata": {},
     "output_type": "execute_result"
    }
   ],
   "source": [
    "mod = MultinomialNB()  # why multi? \n",
    "mod.fit(tfidfv, newsdata.target) # 모델의 입력으로 TF-IDF 행렬과 11,314개의 훈련 데이터에 대한 레이블이 적혀있는 newsdata.target\n",
    "# 각각 X_train과 y_train에 해당"
   ]
  },
  {
   "cell_type": "code",
   "execution_count": 13,
   "id": "c3011f5b",
   "metadata": {},
   "outputs": [
    {
     "data": {
      "text/plain": [
       "MultinomialNB()"
      ]
     },
     "execution_count": 13,
     "metadata": {},
     "output_type": "execute_result"
    }
   ],
   "source": [
    "MultinomialNB(alpha=1.0, class_prior=None, fit_prior=True) #  alpha=1.0은 라플라스 스무딩이 적용되었음"
   ]
  },
  {
   "cell_type": "code",
   "execution_count": 14,
   "id": "ff932340",
   "metadata": {},
   "outputs": [
    {
     "name": "stdout",
     "output_type": "stream",
     "text": [
      "정확도: 0.7738980350504514\n"
     ]
    }
   ],
   "source": [
    "newsdata_test = fetch_20newsgroups(subset='test', shuffle=True) #테스트 데이터 갖고오기\n",
    "X_test_dtm = dtmvector.transform(newsdata_test.data) #테스트 데이터를 DTM으로 변환\n",
    "tfidfv_test = tfidf_transformer.transform(X_test_dtm) #DTM을 TF-IDF 행렬로 변환\n",
    "\n",
    "predicted = mod.predict(tfidfv_test) #테스트 데이터에 대한 예측\n",
    "print(\"정확도:\", accuracy_score(newsdata_test.target, predicted)) #예측값과 실제값 비교"
   ]
  },
  {
   "cell_type": "raw",
   "id": "80c07122",
   "metadata": {},
   "source": [
    "# GaussianNB returned Errors on array size/type"
   ]
  },
  {
   "cell_type": "markdown",
   "id": "08451395",
   "metadata": {},
   "source": [
    "#### BernoulliNB"
   ]
  },
  {
   "cell_type": "code",
   "execution_count": 23,
   "id": "5450045b",
   "metadata": {},
   "outputs": [
    {
     "data": {
      "text/plain": [
       "BernoulliNB()"
      ]
     },
     "execution_count": 23,
     "metadata": {},
     "output_type": "execute_result"
    }
   ],
   "source": [
    "mod = BernoulliNB()  # why multi? \n",
    "mod.fit(tfidfv, newsdata.target)"
   ]
  },
  {
   "cell_type": "code",
   "execution_count": 24,
   "id": "b63c41ee",
   "metadata": {},
   "outputs": [
    {
     "data": {
      "text/plain": [
       "BernoulliNB()"
      ]
     },
     "execution_count": 24,
     "metadata": {},
     "output_type": "execute_result"
    }
   ],
   "source": [
    "BernoulliNB(alpha=1.0, class_prior=None, fit_prior=True)"
   ]
  },
  {
   "cell_type": "code",
   "execution_count": 25,
   "id": "5525638c",
   "metadata": {},
   "outputs": [
    {
     "name": "stdout",
     "output_type": "stream",
     "text": [
      "정확도: 0.6307753584705258\n"
     ]
    }
   ],
   "source": [
    "newsdata_test2 = fetch_20newsgroups(subset='test', shuffle=True) #테스트 데이터 갖고오기\n",
    "X_test_dtm2 = dtmvector.transform(newsdata_test2.data) #테스트 데이터를 DTM으로 변환\n",
    "tfidfv_test2 = tfidf_transformer.transform(X_test_dtm2) #DTM을 TF-IDF 행렬로 변환\n",
    "\n",
    "predicted2 = mod.predict(tfidfv_test2) #테스트 데이터에 대한 예측\n",
    "print(\"정확도:\", accuracy_score(newsdata_test2.target, predicted2)) #예측값과 실제값 비교"
   ]
  },
  {
   "cell_type": "markdown",
   "id": "37fb4fa7",
   "metadata": {},
   "source": [
    "#### bk eg on MNB"
   ]
  },
  {
   "cell_type": "code",
   "execution_count": 32,
   "id": "e29be003",
   "metadata": {},
   "outputs": [],
   "source": [
    "train_news = fetch_20newsgroups(subset='train', remove=('headers', 'footers', 'quotes'), random_state=156)\n",
    "X_train = train_news.data  # 글뭉치\n",
    "y_train = train_news.target  # 라벨링? "
   ]
  },
  {
   "cell_type": "code",
   "execution_count": 34,
   "id": "01f0138e",
   "metadata": {},
   "outputs": [
    {
     "data": {
      "text/plain": [
       "(11314, 11314)"
      ]
     },
     "execution_count": 34,
     "metadata": {},
     "output_type": "execute_result"
    }
   ],
   "source": [
    "len(X_train), len(y_train)"
   ]
  },
  {
   "cell_type": "code",
   "execution_count": 35,
   "id": "56d42141",
   "metadata": {},
   "outputs": [
    {
     "data": {
      "text/plain": [
       "(7532, 7532)"
      ]
     },
     "execution_count": 35,
     "metadata": {},
     "output_type": "execute_result"
    }
   ],
   "source": [
    "test_news = fetch_20newsgroups(subset='test', remove=('headers', 'footers', 'quotes'), random_state=156)\n",
    "X_test = test_news.data\n",
    "y_test = test_news.target\n",
    "len(X_test), len(y_test)"
   ]
  },
  {
   "cell_type": "code",
   "execution_count": 36,
   "id": "e168e726",
   "metadata": {},
   "outputs": [],
   "source": [
    "from sklearn.feature_extraction.text import *"
   ]
  },
  {
   "cell_type": "code",
   "execution_count": 37,
   "id": "2a40a63d",
   "metadata": {},
   "outputs": [],
   "source": [
    "# Count 기반 feature vectorization\n",
    "cnt_vect = CountVectorizer()  \n",
    "cnt_vect.fit(X_train)\n",
    "X_train_cnt_vect = cnt_vect.transform(X_train)"
   ]
  },
  {
   "cell_type": "code",
   "execution_count": 38,
   "id": "68c9b407",
   "metadata": {},
   "outputs": [
    {
     "data": {
      "text/plain": [
       "(11314, 101631)"
      ]
     },
     "execution_count": 38,
     "metadata": {},
     "output_type": "execute_result"
    }
   ],
   "source": [
    "X_train_cnt_vect.shape"
   ]
  },
  {
   "cell_type": "code",
   "execution_count": 39,
   "id": "91437556",
   "metadata": {},
   "outputs": [],
   "source": [
    "X_test_cnt_vect = cnt_vect.transform(X_test) # DO NOT FIT_TRANSFORM TEST SET\n",
    "# feature-vectorize test data with train data-fitted CountVectorizer"
   ]
  },
  {
   "cell_type": "code",
   "execution_count": 40,
   "id": "a5d45c88",
   "metadata": {},
   "outputs": [
    {
     "data": {
      "text/plain": [
       "(7532, 101631)"
      ]
     },
     "execution_count": 40,
     "metadata": {},
     "output_type": "execute_result"
    }
   ],
   "source": [
    "X_test_cnt_vect.shape"
   ]
  },
  {
   "cell_type": "code",
   "execution_count": 43,
   "id": "f04b503b",
   "metadata": {},
   "outputs": [],
   "source": [
    "from sklearn.linear_model import *\n",
    "from sklearn.metrics import *\n",
    "import warnings\n",
    "warnings.filterwarnings('ignore')"
   ]
  },
  {
   "cell_type": "code",
   "execution_count": 44,
   "id": "8736f8c0",
   "metadata": {},
   "outputs": [
    {
     "data": {
      "text/plain": [
       "0.6168348380244291"
      ]
     },
     "execution_count": 44,
     "metadata": {},
     "output_type": "execute_result"
    }
   ],
   "source": [
    "lr_clf = LogisticRegression(solver='liblinear')  # feature vectorized data + logistic regression >> predict newgroup category\n",
    "lr_clf.fit(X_train_cnt_vect, y_train)\n",
    "pred = lr_clf.predict(X_test_cnt_vect)  # fit LogReg with train\n",
    "accuracy_score(y_test, pred)"
   ]
  },
  {
   "cell_type": "code",
   "execution_count": 45,
   "id": "30b0b081",
   "metadata": {},
   "outputs": [],
   "source": [
    "# tf-idf 기반 vectorization\n",
    "tfidf_vect = TfidfVectorizer()\n",
    "tfidf_vect.fit(X_train)\n",
    "X_train_tfidf_vect = tfidf_vect.transform(X_train)\n",
    "X_test_tfidf_vect = tfidf_vect.transform(X_test)"
   ]
  },
  {
   "cell_type": "code",
   "execution_count": 46,
   "id": "93c9a655",
   "metadata": {},
   "outputs": [
    {
     "data": {
      "text/plain": [
       "0.6775092936802974"
      ]
     },
     "execution_count": 46,
     "metadata": {},
     "output_type": "execute_result"
    }
   ],
   "source": [
    "lr_clf = LogisticRegression(solver='liblinear')  # feature vectorized data + logistic regression >> predict newgroup category\n",
    "lr_clf.fit(X_train_tfidf_vect, y_train)\n",
    "pred = lr_clf.predict(X_test_tfidf_vect)  # fit LogReg with train\n",
    "accuracy_score(y_test, pred)  # Tf-IDF gives higher prediction accuracy"
   ]
  },
  {
   "cell_type": "code",
   "execution_count": 47,
   "id": "49bf237d",
   "metadata": {},
   "outputs": [
    {
     "data": {
      "text/plain": [
       "0.6901221455124801"
      ]
     },
     "execution_count": 47,
     "metadata": {},
     "output_type": "execute_result"
    }
   ],
   "source": [
    "# tf-idf 기반 vectorization, w/ params\n",
    "tfidf_vect = TfidfVectorizer(stop_words='english', ngram_range=(1,2), max_df=300)\n",
    "tfidf_vect.fit(X_train)\n",
    "X_train_tfidf_vect = tfidf_vect.transform(X_train)\n",
    "X_test_tfidf_vect = tfidf_vect.transform(X_test)\n",
    "\n",
    "lr_clf = LogisticRegression(solver='liblinear')  \n",
    "lr_clf.fit(X_train_tfidf_vect, y_train)\n",
    "pred = lr_clf.predict(X_test_tfidf_vect)  \n",
    "accuracy_score(y_test, pred)  "
   ]
  },
  {
   "cell_type": "code",
   "execution_count": 48,
   "id": "c2d640a3",
   "metadata": {},
   "outputs": [],
   "source": [
    "from sklearn.model_selection import *"
   ]
  },
  {
   "cell_type": "code",
   "execution_count": 49,
   "id": "5dfc8968",
   "metadata": {},
   "outputs": [
    {
     "name": "stdout",
     "output_type": "stream",
     "text": [
      "Fitting 3 folds for each of 5 candidates, totalling 15 fits\n"
     ]
    },
    {
     "data": {
      "text/plain": [
       "{'C': 10}"
      ]
     },
     "execution_count": 49,
     "metadata": {},
     "output_type": "execute_result"
    }
   ],
   "source": [
    "params = {'C': [0.01, 0.1,1,5,10]} # 최적 C값 도출 튜닝. CV 3폴드세트로 설정.\n",
    "grid_cv_lr = GridSearchCV(lr_clf, param_grid=params, cv=3, scoring='accuracy', verbose=1)\n",
    "grid_cv_lr.fit(X_train_tfidf_vect, y_train)\n",
    "grid_cv_lr.best_params_"
   ]
  },
  {
   "cell_type": "code",
   "execution_count": 50,
   "id": "68829d02",
   "metadata": {},
   "outputs": [
    {
     "data": {
      "text/plain": [
       "0.7039298990971854"
      ]
     },
     "execution_count": 50,
     "metadata": {},
     "output_type": "execute_result"
    }
   ],
   "source": [
    "pred = grid_cv_lr.predict(X_test_tfidf_vect)\n",
    "accuracy_score(y_test, pred)\n",
    "# LogReg's C val=10 >> GridSearchCV 교차검증 테스트세트에서 best prediction results\n",
    "# applied to test set for higher prediction accuracy than previous"
   ]
  },
  {
   "cell_type": "code",
   "execution_count": 51,
   "id": "fd9b4a9c",
   "metadata": {},
   "outputs": [],
   "source": [
    "# pipeline class\n",
    "from sklearn.pipeline import Pipeline"
   ]
  },
  {
   "cell_type": "code",
   "execution_count": 52,
   "id": "a89b3cf0",
   "metadata": {},
   "outputs": [
    {
     "data": {
      "text/plain": [
       "0.7039298990971854"
      ]
     },
     "execution_count": 52,
     "metadata": {},
     "output_type": "execute_result"
    }
   ],
   "source": [
    "# create pipeline consisting tfidfVectorizer + LogReg\n",
    "pipeline = Pipeline([\n",
    "    ('tfidf_vect', TfidfVectorizer(stop_words='english', ngram_range=(1,2), max_df=300)),\n",
    "    ('lr_clf', LogisticRegression(solver='liblinear', C=10))\n",
    "])\n",
    "pipeline.fit(X_train, y_train)\n",
    "pred = pipeline.predict(X_test)\n",
    "accuracy_score(y_test, pred)"
   ]
  },
  {
   "cell_type": "code",
   "execution_count": null,
   "id": "1813b93a",
   "metadata": {},
   "outputs": [],
   "source": []
  },
  {
   "cell_type": "code",
   "execution_count": null,
   "id": "45610737",
   "metadata": {},
   "outputs": [],
   "source": []
  },
  {
   "cell_type": "code",
   "execution_count": null,
   "id": "d6e11f00",
   "metadata": {},
   "outputs": [],
   "source": [
    "# REF https://thecleverprogrammer.com/2021/10/07/news-classification-with-machine-learning/"
   ]
  },
  {
   "cell_type": "code",
   "execution_count": 1,
   "id": "db0badfe",
   "metadata": {},
   "outputs": [],
   "source": [
    "import pandas as pd\n",
    "import numpy as np\n",
    "from sklearn.feature_extraction.text import CountVectorizer\n",
    "from sklearn.model_selection import train_test_split\n",
    "from sklearn.naive_bayes import MultinomialNB"
   ]
  },
  {
   "cell_type": "code",
   "execution_count": 18,
   "id": "dcbfb3f1",
   "metadata": {},
   "outputs": [
    {
     "data": {
      "text/html": [
       "<div>\n",
       "<style scoped>\n",
       "    .dataframe tbody tr th:only-of-type {\n",
       "        vertical-align: middle;\n",
       "    }\n",
       "\n",
       "    .dataframe tbody tr th {\n",
       "        vertical-align: top;\n",
       "    }\n",
       "\n",
       "    .dataframe thead th {\n",
       "        text-align: right;\n",
       "    }\n",
       "</style>\n",
       "<table border=\"1\" class=\"dataframe\">\n",
       "  <thead>\n",
       "    <tr style=\"text-align: right;\">\n",
       "      <th></th>\n",
       "      <th>category</th>\n",
       "      <th>filename</th>\n",
       "      <th>title</th>\n",
       "      <th>content</th>\n",
       "    </tr>\n",
       "  </thead>\n",
       "  <tbody>\n",
       "    <tr>\n",
       "      <th>0</th>\n",
       "      <td>business</td>\n",
       "      <td>001.txt</td>\n",
       "      <td>Ad sales boost Time Warner profit</td>\n",
       "      <td>Quarterly profits at US media giant TimeWarne...</td>\n",
       "    </tr>\n",
       "    <tr>\n",
       "      <th>1</th>\n",
       "      <td>business</td>\n",
       "      <td>002.txt</td>\n",
       "      <td>Dollar gains on Greenspan speech</td>\n",
       "      <td>The dollar has hit its highest level against ...</td>\n",
       "    </tr>\n",
       "    <tr>\n",
       "      <th>2</th>\n",
       "      <td>business</td>\n",
       "      <td>003.txt</td>\n",
       "      <td>Yukos unit buyer faces loan claim</td>\n",
       "      <td>The owners of embattled Russian oil giant Yuk...</td>\n",
       "    </tr>\n",
       "    <tr>\n",
       "      <th>3</th>\n",
       "      <td>business</td>\n",
       "      <td>004.txt</td>\n",
       "      <td>High fuel prices hit BA's profits</td>\n",
       "      <td>British Airways has blamed high fuel prices f...</td>\n",
       "    </tr>\n",
       "    <tr>\n",
       "      <th>4</th>\n",
       "      <td>business</td>\n",
       "      <td>005.txt</td>\n",
       "      <td>Pernod takeover talk lifts Domecq</td>\n",
       "      <td>Shares in UK drinks and food firm Allied Dome...</td>\n",
       "    </tr>\n",
       "  </tbody>\n",
       "</table>\n",
       "</div>"
      ],
      "text/plain": [
       "   category filename                              title  \\\n",
       "0  business  001.txt  Ad sales boost Time Warner profit   \n",
       "1  business  002.txt   Dollar gains on Greenspan speech   \n",
       "2  business  003.txt  Yukos unit buyer faces loan claim   \n",
       "3  business  004.txt  High fuel prices hit BA's profits   \n",
       "4  business  005.txt  Pernod takeover talk lifts Domecq   \n",
       "\n",
       "                                             content  \n",
       "0   Quarterly profits at US media giant TimeWarne...  \n",
       "1   The dollar has hit its highest level against ...  \n",
       "2   The owners of embattled Russian oil giant Yuk...  \n",
       "3   British Airways has blamed high fuel prices f...  \n",
       "4   Shares in UK drinks and food firm Allied Dome...  "
      ]
     },
     "execution_count": 18,
     "metadata": {},
     "output_type": "execute_result"
    }
   ],
   "source": [
    "data = pd.read_csv(\"https://raw.githubusercontent.com/amankharwal/Website-data/master/bbc-news-data.csv\", sep='\\t')\n",
    "data.head()"
   ]
  },
  {
   "cell_type": "code",
   "execution_count": 19,
   "id": "1f99476a",
   "metadata": {},
   "outputs": [
    {
     "data": {
      "text/plain": [
       "RangeIndex(start=0, stop=2225, step=1)"
      ]
     },
     "execution_count": 19,
     "metadata": {},
     "output_type": "execute_result"
    }
   ],
   "source": [
    "data.index"
   ]
  },
  {
   "cell_type": "code",
   "execution_count": 21,
   "id": "96d2c23f",
   "metadata": {},
   "outputs": [
    {
     "data": {
      "text/plain": [
       "['Ad sales boost Time Warner profit',\n",
       " 'Dollar gains on Greenspan speech',\n",
       " 'Yukos unit buyer faces loan claim',\n",
       " \"High fuel prices hit BA's profits\",\n",
       " 'Pernod takeover talk lifts Domecq',\n",
       " 'Japan narrowly escapes recession',\n",
       " 'Jobs growth still slow in the US',\n",
       " 'India calls for fair trade rules',\n",
       " \"Ethiopia's crop production up 24%\",\n",
       " 'Court rejects $280bn tobacco case',\n",
       " 'Ask Jeeves tips online ad revival',\n",
       " 'Indonesians face fuel price rise',\n",
       " 'Peugeot deal boosts Mitsubishi',\n",
       " 'Telegraph newspapers axe 90 jobs',\n",
       " 'Air passengers win new EU rights',\n",
       " 'China keeps tight rein on credit',\n",
       " 'Parmalat boasts doubled profits',\n",
       " \"India's rupee hits five-year high\",\n",
       " 'India widens access to telecoms',\n",
       " \"Call centre users 'lose patience'\",\n",
       " \"Rank 'set to sell off film unit'\",\n",
       " 'Sluggish economy hits German jobs',\n",
       " 'Mixed signals from French economy',\n",
       " 'US trade gap hits record in 2004',\n",
       " 'Yukos loses US bankruptcy battle',\n",
       " 'Safety alert as GM recalls cars',\n",
       " \"Steel firm 'to cut' 45,000 jobs\",\n",
       " 'Strong demand triggers oil rally',\n",
       " 'UK firm faces Venezuelan land row',\n",
       " \"Soaring oil 'hits world economy'\",\n",
       " 'Irish markets reach all-time high',\n",
       " 'Japanese banking battle at an end',\n",
       " 'Rich grab half Colombia poor fund',\n",
       " \"Rover deal 'may cost 2,000 jobs'\",\n",
       " \"Ad firm WPP's profits surge 15%\",\n",
       " 'US gives foreign firms extra time',\n",
       " 'Japanese mogul arrested for fraud',\n",
       " 'Deutsche Telekom sees mobile gain',\n",
       " \"Chinese wine tempts Italy's Illva\",\n",
       " 'Umbro profits lifted by Euro 2004',\n",
       " 'Fed chief warning on US deficit',\n",
       " 'UK Coal plunges into deeper loss',\n",
       " 'Saudi ministry to employ women',\n",
       " 'Japan economy slides to recession',\n",
       " 'US crude prices surge above $53',\n",
       " 'Industrial output falls in Japan',\n",
       " 'Ryanair in $4bn Boeing plane deal',\n",
       " 'Parmalat to return to stockmarket',\n",
       " 'BMW cash to fuel Mini production',\n",
       " 'Bad weather hits Nestle sales',\n",
       " 'Fiat mulls Ferrari market listing',\n",
       " 'Italy to get economic action plan',\n",
       " 'Weak dollar hits Reuters',\n",
       " 'Hyundai to build new India plant',\n",
       " \"SA unveils 'more for all' budget\",\n",
       " 'BMW drives record sales in Asia',\n",
       " \"Economy 'stronger than forecast'\",\n",
       " 'Electrolux to export Europe jobs',\n",
       " 'Worldcom ex-boss launches defence',\n",
       " 'Insurance bosses plead guilty',\n",
       " 'Further rise in UK jobless total',\n",
       " \"Wembley firm won't make a profit\",\n",
       " 'Cars pull down US retail figures',\n",
       " 'Lufthansa may sue over Bush visit',\n",
       " 'EU aiming to fuel development aid',\n",
       " 'German business confidence slides',\n",
       " 'FAO warns on impact of subsidies',\n",
       " 'India seeks to boost construction',\n",
       " 'Boeing unveils new 777 aircraft',\n",
       " 'Circuit City gets takeover offer',\n",
       " 'Japan turns to beer alternatives',\n",
       " 'S Korean consumers spending again',\n",
       " 'German growth goes into reverse',\n",
       " \"Turkey-Iran mobile deal 'at risk'\",\n",
       " 'EU ministers to mull jet fuel tax',\n",
       " 'Palestinian economy in decline',\n",
       " 'China had role in Yukos split-up',\n",
       " 'Deadline nears for Fiat-GM deal',\n",
       " 'ID theft surge hits US consumers',\n",
       " 'Argentina, Venezuela in oil deal',\n",
       " 'BMW to recall faulty diesel cars',\n",
       " 'Takeover rumour lifts Exel shares',\n",
       " 'Yukos accused of lying to court',\n",
       " 'Mexican in US send $16bn home',\n",
       " 'Home loan approvals rising again',\n",
       " \"Manufacturing recovery 'slowing'\",\n",
       " \"Worldcom boss 'left books alone'\",\n",
       " 'Metlife buys up Citigroup insurer',\n",
       " 'Europe blames US over weak dollar',\n",
       " 'French wine gets 70m euro top-up',\n",
       " 'Russia gets investment blessing',\n",
       " 'Iranian MPs threaten mobile deal',\n",
       " 'Argentina closes $102.6bn debt swap',\n",
       " 'US economy shows solid GDP growth',\n",
       " \"Profits slide at India's Dr Reddy\",\n",
       " 'Burren awarded Egyptian contracts',\n",
       " \"'Strong dollar' call halts slide\",\n",
       " \"IMF 'cuts' German growth estimate\",\n",
       " 'GM, Ford cut output as sales fall',\n",
       " 'Ebbers denies WorldCom fraud',\n",
       " 'Australia rates at four year high',\n",
       " 'US company admits Benin bribery',\n",
       " 'US insurer Marsh cuts 2,500 jobs',\n",
       " 'US seeks new $280bn smoker ruling',\n",
       " 'Budget Aston takes on Porsche',\n",
       " \"Golden rule 'intact' says ex-aide\",\n",
       " 'Liberian economy starts to grow',\n",
       " 'Slowdown hits US factory growth',\n",
       " 'Lufthansa flies back to profit',\n",
       " 'Japanese growth grinds to a halt',\n",
       " 'Unilever shake up as profit slips',\n",
       " 'France Telecom gets Orange boost',\n",
       " 'Brussels raps mobile call charges',\n",
       " 'WorldCom director admits lying',\n",
       " 'Glaxo aims high after profit fall',\n",
       " 'Japan bank shares up on link talk',\n",
       " 'Car giant hit by Mercedes slump',\n",
       " 'Ericsson sees earnings improve',\n",
       " 'Bank opts to leave rates on hold',\n",
       " 'Nigeria to boost cocoa production',\n",
       " 'US interest rates increased to 2%',\n",
       " 'US bank in $515m SEC settlement',\n",
       " 'Train strike grips Buenos Aires',\n",
       " 'Bargain calls widen Softbank loss',\n",
       " 'WMC profits up amid bid criticism',\n",
       " 'Barclays profits hit record level',\n",
       " 'Yukos owner sues Russia for $28bn',\n",
       " 'Qantas sees profits fly to record',\n",
       " 'Iraq to invite phone licence bids',\n",
       " 'Aviation firms eye booming India',\n",
       " 'Russian oil merger excludes Yukos',\n",
       " \"Brazil buy boosts Belgium's Inbev\",\n",
       " 'Salary scandal in Cameroon',\n",
       " 'US adds more jobs than expected',\n",
       " 'Feta cheese battle reaches court',\n",
       " 'Ukraine revisits state sell-offs',\n",
       " 'Bank set to leave rates on hold',\n",
       " 'Winter freeze keeps oil above $50',\n",
       " 'German jobless rate at new record',\n",
       " 'Ore costs hit global steel firms',\n",
       " 'BMW reveals new models pipeline',\n",
       " \"Asian banks halt dollar's slide\",\n",
       " 'Weak dollar trims Cadbury profits',\n",
       " 'Oil prices fall back from highs',\n",
       " 'Winn-Dixie files for bankruptcy',\n",
       " 'Why few targets are better than many',\n",
       " 'Malaysia lifts Islamic bank limit',\n",
       " \"Alfa Romeos 'to get GM engines'\",\n",
       " 'Saab to build Cadillacs in Sweden',\n",
       " 'Shares hit by MS drug suspension',\n",
       " 'Bank voted 8-1 for no rate change',\n",
       " 'Crude oil prices back above $50',\n",
       " 'House prices show slight increase',\n",
       " 'Golden rule boost for Chancellor',\n",
       " \"Macy's owner buys rival for $11bn\",\n",
       " 'Industrial revival hope for Japan',\n",
       " 'Khodorkovsky ally denies charges',\n",
       " 'Qatar and Shell in $6bn gas deal',\n",
       " 'India unveils anti-poverty budget',\n",
       " 'GM pays $2bn to evade Fiat buyout',\n",
       " 'Ex-Boeing director gets jail term',\n",
       " \"Verizon 'seals takeover of MCI'\",\n",
       " 'US data sparks inflation worries',\n",
       " 'Yukos sues four firms for $20bn',\n",
       " 'Consumer spending lifts US growth',\n",
       " \"Crossrail link 'to get go-ahead'\",\n",
       " 'Hariri killing hits Beirut shares',\n",
       " \"Small firms 'hit by rising costs'\",\n",
       " \"Buyers snap up Jet Airways' shares\",\n",
       " 'House prices suffer festive fall',\n",
       " 'Deutsche Boerse boosts dividend',\n",
       " 'Newest EU members underpin growth',\n",
       " \"Brewers' profits lose their fizz\",\n",
       " \"Yangtze Electric's profits double\",\n",
       " 'French consumer spending rising',\n",
       " 'GSK aims to stop Aids profiteers',\n",
       " 'Optimism remains over UK housing',\n",
       " \"Russia WTO talks 'make progress'\",\n",
       " 'Irish duo could block Man Utd bid',\n",
       " 'Dollar drops on reserves concerns',\n",
       " 'India and Russia in energy talks',\n",
       " 'Weak data buffets French economy',\n",
       " 'Business fears over sluggish EU economy',\n",
       " 'M&S cuts prices by average of 24%',\n",
       " \"US bank 'loses' customer details\",\n",
       " 'Huge rush for Jet Airways shares',\n",
       " 'Bank payout to Pinochet victims',\n",
       " 'Qwest may spark MCI bidding war',\n",
       " 'Fiat chief takes steering wheel',\n",
       " 'Consumers drive French economy',\n",
       " 'US regulator to rule on pain drug',\n",
       " \"Yukos bankruptcy 'not US matter'\",\n",
       " 'Borussia Dortmund near bust',\n",
       " \"'Post-Christmas lull' in lending\",\n",
       " \"UK 'risks breaking golden rule'\",\n",
       " 'Worldcom director ends evidence',\n",
       " \"Ukraine steel sell-off 'illegal'\",\n",
       " 'Cairn shares up on new oil find',\n",
       " 'Georgia plans hidden asset pardon',\n",
       " 'Cuba winds back economic clock',\n",
       " 'Novartis hits acquisition trail',\n",
       " 'MCI shareholder sues to stop bid',\n",
       " \"'Standoff' on Deutsche's LSE bid\",\n",
       " \"Bush to outline 'toughest' budget\",\n",
       " 'Orange colour clash set for court',\n",
       " 'Standard Life cuts policy bonuses',\n",
       " 'EMI shares hit by profit warning',\n",
       " \"China's Shanda buys stake in Sina\",\n",
       " 'Mixed reaction to Man Utd offer',\n",
       " 'Gold falls on IMF sale concerns',\n",
       " 'Electronics firms eye plasma deal',\n",
       " \"MG Rover China tie-up 'delayed'\",\n",
       " \"US bank boss hails 'genius' Smith\",\n",
       " \"Economy 'strong' in election year\",\n",
       " 'SEC to rethink post-Enron rules',\n",
       " 'Nissan names successor to Ghosn',\n",
       " 'Ukraine trims privatisation check',\n",
       " 'Absa and Barclays talks continue',\n",
       " 'Rescue hope for Borussia Dortmund',\n",
       " 'Standard Life concern at LSE bid',\n",
       " 'BP surges ahead on high oil price',\n",
       " 'Oil companies get Russian setback',\n",
       " 'Gaming firm to sell UK dog tracks',\n",
       " 'Man Utd to open books to Glazer',\n",
       " \"Sales 'fail to boost High Street'\",\n",
       " \"McDonald's to sponsor MTV show\",\n",
       " 'Call to save manufacturing jobs',\n",
       " \"Tsunami 'to hit Sri Lanka banks'\",\n",
       " 'Shares rise on new Man Utd offer',\n",
       " 'Yukos drops banks from court bid',\n",
       " 'Venezuela reviews foreign deals',\n",
       " \"Lloyd's of London head chides FSA\",\n",
       " 'Bat spit drug firm goes to market',\n",
       " 'Vodafone appoints new Japan boss',\n",
       " 'Pension hitch for long-living men',\n",
       " \"Card fraudsters 'targeting web'\",\n",
       " \"Britannia members' £42m windfall\",\n",
       " 'Firms pump billions into pensions',\n",
       " 'UK homes hit £3.3 trillion total',\n",
       " \"Economy 'strong' in election year\",\n",
       " 'G7 backs Africa debt relief plan',\n",
       " 'Q&A: Malcolm Glazer and Man Utd',\n",
       " 'Making your office work for you',\n",
       " 'Market unfazed by Aurora setback',\n",
       " \"The 'ticking budget' facing the US\",\n",
       " \"Ebbers 'aware' of WorldCom fraud\",\n",
       " \"Renault boss hails 'great year'\",\n",
       " 'Survey confirms property slowdown',\n",
       " 'Bush budget seeks deep cutbacks',\n",
       " \"Profits stall at China's Lenovo\",\n",
       " 'MCI shares climb on takeover bid',\n",
       " 'BT offers equal access to rivals',\n",
       " 'Jobs growth still slow in the US',\n",
       " 'News Corp eyes video games market',\n",
       " 'Call to overhaul UK state pension',\n",
       " 'Singapore growth at 8.1% in 2004',\n",
       " 'Turkey knocks six zeros off lira',\n",
       " 'S Korea spending boost to economy',\n",
       " 'Latin America sees strong growth',\n",
       " 'Asia shares defy post-quake gloom',\n",
       " 'Booming markets shed few tears',\n",
       " 'Asian quake hits European shares',\n",
       " 'Split-caps pay £194m compensation',\n",
       " 'French suitor holds LSE meeting',\n",
       " 'Troubled Marsh under SEC scrutiny',\n",
       " 'Could Yukos be a blessing in disguise?',\n",
       " 'Nasdaq planning $100m share sale',\n",
       " 'Giving financial gifts to children',\n",
       " 'Air China in $1bn London listing',\n",
       " 'Oil prices reach three-month low',\n",
       " \"Arsenal 'may seek full share listing'\",\n",
       " 'Markets signal Brazilian recovery',\n",
       " 'Markets fall on weak dollar fears',\n",
       " 'Google shares fall as staff sell',\n",
       " 'Five million Germans out of work',\n",
       " 'India power shares jump on debut',\n",
       " 'Turkey turns on the economic charm',\n",
       " 'SBC plans post-takeover job cuts',\n",
       " 'German bidder in talks with LSE',\n",
       " 'Amex shares up on spin-off news',\n",
       " 'Axa Sun Life cuts bonus payments',\n",
       " \"Chinese dam firm 'defies Beijing'\",\n",
       " 'Stock market eyes Japan recovery',\n",
       " 'Iraqi voters turn to economic issues',\n",
       " \"EU 'too slow' on economic reforms\",\n",
       " 'China continues breakneck growth',\n",
       " \"Japan's ageing workforce: built to last\",\n",
       " \"GE sees 'excellent' world economy\",\n",
       " \"UK economy facing 'major risks'\",\n",
       " 'Bank holds interest rate at 4.75%',\n",
       " 'Tobacco giants hail court ruling',\n",
       " 'Steady job growth continues in US',\n",
       " 'Glazer makes new Man Utd approach',\n",
       " 'Wall Street cheers Bush victory',\n",
       " 'Business confidence dips in Japan',\n",
       " \"Millions 'to lose textile jobs'\",\n",
       " 'Dutch bank to lay off 2,850 staff',\n",
       " \"Fannie Mae 'should restate books'\",\n",
       " 'US to rule on Yukos refuge call',\n",
       " 'J&J agrees $25bn Guidant deal',\n",
       " 'Libya takes $1bn in unfrozen funds',\n",
       " 'Cactus diet deal for Phytopharm',\n",
       " 'Brazil plays down Varig rescue',\n",
       " 'Bombardier chief to leave company',\n",
       " 'Brazil approves bankruptcy reform',\n",
       " 'Retail sales show festive fervour',\n",
       " 'Cairn shares slump on oil setback',\n",
       " 'French boss to leave EADS',\n",
       " 'AstraZeneca hit by drug failure',\n",
       " 'Strong quarterly growth for Nike',\n",
       " 'Stormy year for property insurers',\n",
       " 'Parmalat sues 45 banks over crash',\n",
       " 'Irish company hit by Iraqi report',\n",
       " 'Yukos unit fetches $9bn at auction',\n",
       " 'S&N extends Indian beer venture',\n",
       " \"Euronext 'poised to make LSE bid'\",\n",
       " 'Christmas shoppers flock to tills',\n",
       " 'Mystery surrounds new Yukos owner',\n",
       " 'Euronext joins bid battle for LSE',\n",
       " 'Iraq and Afghanistan in WTO talks',\n",
       " 'Diageo to buy US wine firm',\n",
       " \"Tokyo says deflation 'controlled'\",\n",
       " 'No seasonal lift for house market',\n",
       " 'Yukos seeks court action on sale',\n",
       " 'Indy buys into India paper',\n",
       " 'Senior Fannie Mae bosses resign',\n",
       " 'Cannabis hopes for drug firm',\n",
       " \"Bush to get 'tough' on deficit\",\n",
       " 'House prices drop as sales slow',\n",
       " 'Fresh hope after Argentine crisis',\n",
       " 'Disney settles disclosure charges',\n",
       " 'Putin backs state grab for Yukos',\n",
       " 'Troubled Marsh under SEC scrutiny',\n",
       " 'US firm pulls out of Iraq',\n",
       " 'Boeing secures giant Japan order',\n",
       " 'Banker loses sexism claim',\n",
       " 'Building giant in asbestos payout',\n",
       " 'Police detain Chinese milk bosses',\n",
       " \"India's Deccan seals $1.8bn deal\",\n",
       " 'Venezuela and China sign oil deal',\n",
       " 'Jarvis sells Tube stake to Spain',\n",
       " 'Honda wins China copyright ruling',\n",
       " 'Air Jamaica back in state control',\n",
       " 'Battered dollar hits another low',\n",
       " \"Quake's economic costs emerging\",\n",
       " \"Disaster claims 'less than $10bn'\",\n",
       " 'India-Pakistan peace boosts trade',\n",
       " 'US to probe airline travel chaos',\n",
       " 'S Korean lender faces liquidation',\n",
       " 'Dollar hits new low versus euro',\n",
       " 'Mild winter drives US oil down 6%',\n",
       " 'Share boost for feud-hit Reliance',\n",
       " 'Giant waves damage S Asia economy',\n",
       " 'Asia shares defy post-quake gloom',\n",
       " 'Israeli economy picking up pace',\n",
       " 'S Korea spending boost to economy',\n",
       " 'Soros group warns of Kazakh close',\n",
       " 'Deutsche attacks Yukos case',\n",
       " 'GM in crunch talks on Fiat future',\n",
       " 'Record year for Chilean copper',\n",
       " 'US consumer confidence up',\n",
       " 'Cash gives way to flexible friend',\n",
       " 'Go-ahead for Balkan oil pipeline',\n",
       " 'Durex maker SSL awaits firm bid',\n",
       " 'Nasdaq planning $100m-share sale',\n",
       " 'WMC says Xstrata bid is too low',\n",
       " 'Takeover offer for Sunderland FC',\n",
       " 'Warning over US pensions deficit',\n",
       " 'Beer giant swallows Russian firm',\n",
       " 'US manufacturing expands',\n",
       " 'Singapore growth at 8.1% in 2004',\n",
       " 'Madagascar completes currency switch',\n",
       " 'Quiksilver moves for Rossignol',\n",
       " 'Dollar hovers around record lows',\n",
       " 'S Korean credit card firm rescued',\n",
       " 'Dollar slides ahead of New Year',\n",
       " 'VW considers opening Indian plant',\n",
       " 'Ukraine strikes Turkmen gas deal',\n",
       " 'Reliance unit loses Anil Ambani',\n",
       " 'India opens skies to competition',\n",
       " 'Oil rebounds from weather effect',\n",
       " 'Ban on forced retirement under 65',\n",
       " 'Fed warns of more US rate rises',\n",
       " 'Weak end-of-year sales hit Next',\n",
       " 'Tate & Lyle boss bags top award',\n",
       " 'Krispy Kreme shares hit',\n",
       " 'Germany nears 1990 jobless level',\n",
       " \"Venezuela identifies 'idle' farms\",\n",
       " 'Egypt to sell off state-owned bank',\n",
       " 'Wal-Mart to pay $14m in gun suit',\n",
       " 'Yukos heading back to US courts',\n",
       " \"Deutsche Boerse set to 'woo' LSE\",\n",
       " 'Laura Ashley chief stepping down',\n",
       " 'US Airways staff agree to pay cut',\n",
       " 'Delta cuts fares in survival plan',\n",
       " \"Profits jump at China's top bank\",\n",
       " 'Green reports shun supply chain',\n",
       " 'Tsunami to cost Sri Lanka $1.3bn',\n",
       " 'Indian oil firm eyes Yukos assets',\n",
       " 'Monsanto fined $1.5m for bribery',\n",
       " 'Marsh executive in guilty plea',\n",
       " 'US interest rate rise expected',\n",
       " \"WorldCom bosses' $54m payout\",\n",
       " \"Continental 'may run out of cash'\",\n",
       " 'House prices rebound says Halifax',\n",
       " 'Mixed Christmas for US retailers',\n",
       " \"India's Deccan gets more planes\",\n",
       " 'South African car demand surges',\n",
       " 'UK bank seals South Korean deal',\n",
       " \"DaimlerChrysler's 2004 sales rise\",\n",
       " 'Tsunami cost hits Jakarta shares',\n",
       " 'Iran budget seeks state sell-offs',\n",
       " 'EC calls truce in deficit battle',\n",
       " 'Enron bosses in $168m payout',\n",
       " 'UK house prices dip in November',\n",
       " 'Steady job growth continues in US',\n",
       " 'Barclays shares up on merger talk',\n",
       " \"US firm 'bids for Lacroix label'\",\n",
       " '$1m payoff for former Shell boss',\n",
       " 'India and Iran in gas export deal',\n",
       " \"LSE 'sets date for takeover deal'\",\n",
       " 'News Corp makes $5.4bn Fox offer',\n",
       " 'Israel looks to US for bank chief',\n",
       " 'EU-US seeking deal on air dispute',\n",
       " 'Nortel in $300m profit revision',\n",
       " 'Minister hits out at Yukos sale',\n",
       " 'Chinese exports rise 25% in 2004',\n",
       " 'Karachi stocks hit historic high',\n",
       " 'US trade gap ballooned in October',\n",
       " 'US prepares for hybrid onslaught',\n",
       " 'Mitsubishi in Peugeot link talks',\n",
       " 'BA to suspend two Saudi services',\n",
       " 'Cairn Energy in Indian gas find',\n",
       " 'Asia quake increases poverty risk',\n",
       " 'Fosters buys stake in winemaker',\n",
       " 'ECB holds rates amid growth fears',\n",
       " 'China bans new tobacco factories',\n",
       " 'UK interest rates held at 4.75%',\n",
       " 'German economy rebounds',\n",
       " 'US trade deficit widens sharply',\n",
       " 'Trade gap narrows as exports rise',\n",
       " 'Lesotho textile workers lose jobs',\n",
       " 'Kraft cuts snack ads for children',\n",
       " 'Khodorkovsky quits Yukos shares',\n",
       " 'Executive trio leave Aer Lingus',\n",
       " 'US in EU tariff chaos trade row',\n",
       " 'News Corp eyes video games market',\n",
       " 'US Ahold suppliers face charges',\n",
       " 'Wal-Mart fights back at accusers',\n",
       " 'US retail sales surge in December',\n",
       " \"Winemaker rejects Foster's offer\",\n",
       " \"McDonald's boss Bell dies aged 44\",\n",
       " 'US industrial output growth eases',\n",
       " \"LSE doubts boost bidders' shares\",\n",
       " 'Qantas considers offshore option',\n",
       " \"Gazprom 'in $36m back-tax claim'\",\n",
       " 'Germany calls for EU reform',\n",
       " 'Parmalat founder offers apology',\n",
       " \"'Golden economic period' to end\",\n",
       " 'Jobs go at Oracle after takeover',\n",
       " 'Beijingers fume over parking fees',\n",
       " 'GM issues 2005 profits warning',\n",
       " 'US economy still growing says Fed',\n",
       " \"Wall Street cool to eBay's profit\",\n",
       " 'WorldCom trial starts in New York',\n",
       " 'High fuel costs hit US airlines',\n",
       " \"European losses hit GM's profits\",\n",
       " \"EU to probe Alitalia 'state aid'\",\n",
       " 'IMF agrees fresh Turkey funding',\n",
       " 'Saudi investor picks up the Savoy',\n",
       " \"Tsunami slows Sri Lanka's growth\",\n",
       " 'China suspends 26 power projects',\n",
       " 'Two Nigerian banks set to merge',\n",
       " 'Virgin Blue shares plummet 20%',\n",
       " 'Watchdog probes Vivendi bond sale',\n",
       " \"Saudi NCCI's shares soar\",\n",
       " 'JP Morgan admits US slavery links',\n",
       " 'Egypt and Israel seal trade deal',\n",
       " 'Ford gains from finance not cars',\n",
       " 'Wipro beats forecasts once again',\n",
       " 'Christmas sales worst since 1981',\n",
       " 'Businesses fail to plan for HIV',\n",
       " 'Ailing EuroDisney vows turnaround',\n",
       " 'UK young top Euro earnings league',\n",
       " 'Swiss cement firm in buying spree',\n",
       " \"India's Reliance family feud heats up\",\n",
       " 'World leaders gather to face uncertainty',\n",
       " 'US budget deficit to reach $368bn',\n",
       " 'Criminal probe on Citigroup deals',\n",
       " 'Brazil jobless rate hits new low',\n",
       " \"Indonesia 'declines debt freeze'\",\n",
       " 'Parmalat bank barred from suing',\n",
       " 'China continues rapid growth',\n",
       " 'SEC to rethink post-Enron rules',\n",
       " 'BBC poll indicates economic gloom',\n",
       " 'Europe asks Asia for euro help',\n",
       " 'FBI agent colludes with analyst',\n",
       " 'Millions go missing at China bank',\n",
       " 'China Aviation seeks rescue deal',\n",
       " 'Low-cost airlines hit Eurotunnel',\n",
       " 'Water firm Suez in Argentina row',\n",
       " 'Algeria hit by further gas riots',\n",
       " \"India's Maruti sees profits jump\",\n",
       " 'Aids and climate top Davos agenda',\n",
       " 'China now top trader with Japan',\n",
       " \"Trial begins of Spain's top banker\",\n",
       " 'UK economy ends year with spurt',\n",
       " 'HealthSouth ex-boss goes on trial',\n",
       " 'Euro firms miss out on optimism',\n",
       " 'Lacroix label bought by US firm',\n",
       " 'Gallery unveils interactive tree',\n",
       " 'Jarre joins fairytale celebration',\n",
       " 'Musical treatment for Capra film',\n",
       " 'Richard and Judy choose top books',\n",
       " 'Poppins musical gets flying start',\n",
       " 'Bennett play takes theatre prizes',\n",
       " 'Levy tipped for Whitbread prize',\n",
       " 'West End to honour finest shows',\n",
       " \"Da Vinci Code is 'lousy history'\",\n",
       " 'Uganda bans Vagina Monologues',\n",
       " \"Artists' secret postcards on sale\",\n",
       " 'Neeson in bid to revive theatre',\n",
       " 'Levy takes Whitbread novel prize',\n",
       " 'Adventure tale tops awards',\n",
       " 'Mutant book wins Guardian prize',\n",
       " 'Arthur Hailey: King of the bestsellers',\n",
       " 'Spark heads world Booker list',\n",
       " 'Versace art portfolio up for sale',\n",
       " 'Slater to star in Broadway play',\n",
       " 'Public show for Reynolds portrait',\n",
       " 'Obituary: Dame Alicia Markova',\n",
       " 'Fears raised over ballet future',\n",
       " 'Famed music director Viotti dies',\n",
       " 'Paraguay novel wins US book prize',\n",
       " 'New Harry Potter tops book chart',\n",
       " \"UK's National Gallery in the pink\",\n",
       " 'Lit Idol begins search for author',\n",
       " 'Potter director signs Warner deal',\n",
       " 'Baghdad Blogger on big screen',\n",
       " 'US critics laud comedy Sideways',\n",
       " \"Dirty Den's demise seen by 14m\",\n",
       " \"Redford's vision of Sundance\",\n",
       " 'DVD review: Harry Potter and the Prisoner of Azkaban',\n",
       " 'Vera Drake scoops film award',\n",
       " 'Hundreds vie for best film Oscar',\n",
       " 'Hanks greeted at wintry premiere',\n",
       " \"Film row over Pirates 'cannibals'\",\n",
       " 'Stars gear up for Bafta ceremony',\n",
       " \"Aviator 'creator' in Oscars snub\",\n",
       " 'Wine comedy up for six film gongs',\n",
       " 'No ads for Passion Oscar campaign',\n",
       " 'Berlin honours S Korean director',\n",
       " 'Stars pay tribute to actor Davis',\n",
       " 'US actor Ossie Davis found dead',\n",
       " \"Jugnot 'tops French actor league'\",\n",
       " \"Howl helps boost Japan's cinemas\",\n",
       " 'Berlin applauds Hotel Rwanda',\n",
       " \"'Landmark movies' of 2004 hailed\",\n",
       " 'De Niro film leads US box office',\n",
       " \"Willis sues over movie 'injury'\",\n",
       " 'Foxx and Swank win US awards',\n",
       " 'Spike Lee backs student directors',\n",
       " 'Horror film heads US box office',\n",
       " 'Mumbai bombs movie postponed',\n",
       " 'DVD review: I, Robot',\n",
       " \"Brando 'rejected Godfather role'\",\n",
       " \"Dutch watch Van Gogh's last film\",\n",
       " 'Berlin hails European cinema',\n",
       " 'Sky takes over Oscar night mantle',\n",
       " 'Snicket tops US box office chart',\n",
       " \"Director Nair's Vanity project\",\n",
       " 'Spirit awards hail Sideways',\n",
       " 'Tautou film tops Cesar prize nods',\n",
       " 'Hollywood ready for Oscars night',\n",
       " 'Animation charms Japan box office',\n",
       " 'US box office set for record high',\n",
       " 'Low-budget film wins Cesar',\n",
       " \"Tautou 'to star in Da Vinci film'\",\n",
       " 'Foxx and Swank take actors awards',\n",
       " 'Children vote Shrek 2 best film',\n",
       " 'UK debut for Kevin Spacey movie',\n",
       " 'Box office blow for Alexander',\n",
       " 'Ray DVD beats box office takings',\n",
       " \"Ocean's Twelve raids box office\",\n",
       " 'Indie film nominations announced',\n",
       " 'Fockers fuel festive film chart',\n",
       " 'DVD review: Spider-Man 2',\n",
       " 'Baby becomes new Oscar favourite',\n",
       " 'Russian film wins BBC world prize',\n",
       " 'US TV cuts nudity from BBC film',\n",
       " 'Oscars race enters final furlong',\n",
       " \"Aviator 'creator' in Oscars snub\",\n",
       " \"Cage film's third week at US top\",\n",
       " 'Oscar nominees gear up for lunch',\n",
       " 'Church anger over Bollywood film',\n",
       " 'Bookmakers back Aviator for Oscar',\n",
       " 'Global release for Japan hit film',\n",
       " \"Ocean's Twelve raids box office\",\n",
       " \"Oscar nominee Dan O'Herlihy dies\",\n",
       " 'Berlin cheers for anti-Nazi film',\n",
       " \"Wine comedy wins critics' award\",\n",
       " 'Actor Foxx sees Globe nominations',\n",
       " 'Godzilla gets Hollywood fame star',\n",
       " 'God cut from Dark Materials film',\n",
       " 'Aviator wins top Globes accolades',\n",
       " \"Singer's film to show at festival\",\n",
       " 'Surprise win for anti-Bush film',\n",
       " 'Da Vinci film to star Tom Hanks',\n",
       " 'Controversial film tops festival',\n",
       " 'Fockers retain film chart crown',\n",
       " 'Sundance to honour foreign films',\n",
       " 'Day-Lewis set for Berlin honour',\n",
       " 'Downloads enter US singles chart',\n",
       " 'Glasgow hosts tsunami benefit gig',\n",
       " \"Pop band Busted to 'take a break'\",\n",
       " \"Streets have 'album of the year'\",\n",
       " 'Manics in charge of BBC 6 Music',\n",
       " \"Media seek Jackson 'juror' notes\",\n",
       " 'Band Aid retains number one spot',\n",
       " 'Rap boss arrested over drug find',\n",
       " 'Elton plays Paris charity concert',\n",
       " 'Elvis set to top UK singles chart',\n",
       " 'Wal-Mart is sued over rude lyrics',\n",
       " 'Pete Doherty misses bail deadline',\n",
       " \"Rapper Snoop Dogg sued for 'rape'\",\n",
       " 'Legendary music studio to close',\n",
       " 'Rapper Jay-Z becomes label boss',\n",
       " 'REM concerts blighted by illness',\n",
       " 'Ring of Fire hit co-writer dies',\n",
       " \"'My memories of Marley...'\",\n",
       " \"Belle named 'best Scottish band'\",\n",
       " 'Dance music not dead says Fatboy',\n",
       " \"Label withdraws McFadden's video\",\n",
       " 'Byrds producer Melcher dies at 62',\n",
       " 'Snow Patrol feted at Irish awards',\n",
       " 'Doves soar to UK album summit',\n",
       " 'Downloads enter US singles chart',\n",
       " 'Top gig award for Scissor Sisters',\n",
       " 'Brits return Keane to number one',\n",
       " 'Charity single for quake relief',\n",
       " 'Franz man seeks government help',\n",
       " 'Hard act to follow for OutKast',\n",
       " 'Sir Paul rocks Super Bowl crowds',\n",
       " \"Rock group Korn's guitarist quits\",\n",
       " 'Vibe awards back despite violence',\n",
       " \"'Christmas song formula' unveiled\",\n",
       " 'Glastonbury fans to get ID cards',\n",
       " 'Queen recruit singer for new tour',\n",
       " 'U2 to play at Grammy awards show',\n",
       " 'Rock band U2 break ticket record',\n",
       " \"Police praise 'courageous' Ozzy\",\n",
       " 'New York rockers top talent poll',\n",
       " 'Blair buys copies of new Band Aid',\n",
       " 'Eminem beats Elvis to number one',\n",
       " 'Sir Paul rocks Super Bowl crowds',\n",
       " 'J-Lo and husband plan debut duet',\n",
       " 'Beastie Boys win sampling battle',\n",
       " 'Pupils to get anti-piracy lessons',\n",
       " 'Spector facing more legal action',\n",
       " 'Usher leads Billboard nominations',\n",
       " 'Eminem secret gig venue revealed',\n",
       " 'Beatles suits sell for $110,000',\n",
       " 'OutKast win at MTV Europe Awards',\n",
       " 'Oasis star fined for German brawl',\n",
       " 'Disputed Nirvana box set on sale',\n",
       " 'Usher leads Soul Train shortlist',\n",
       " 'US charity anthem is re-released',\n",
       " 'Queen recruit singer for new tour',\n",
       " 'Band Aid 20 single storms to No 1',\n",
       " 'iTunes now selling Band Aid song',\n",
       " 'Court halts Mark Morrison album',\n",
       " \"Prince crowned 'top music earner'\",\n",
       " 'Early Elvis recordings go on sale',\n",
       " \"Parker's saxophone heads auction\",\n",
       " 'Comic Morris returns with sitcom',\n",
       " 'TV station refuses adoption show',\n",
       " 'A-listers flock to Gervais sitcom',\n",
       " \"Campaigners attack MTV 'sleaze'\",\n",
       " \"US actor 'found with gun residue'\",\n",
       " \"EastEnders 'is set for US remake'\",\n",
       " \"US 'to raise TV indecency fines'\",\n",
       " \"Eurovision 'greats' to do battle\",\n",
       " 'UK TV channel rapped for CSI ad',\n",
       " 'X Factor show gets second series',\n",
       " 'Alicia Keys to open US Super Bowl',\n",
       " \"'Comeback' show for Friends star\",\n",
       " 'Hillbillies singer Scoggins dies',\n",
       " 'Branson show flops on US screens',\n",
       " 'Housewives lift Channel 4 ratings',\n",
       " 'McCririck out of Big Brother show',\n",
       " 'Chris Evans back on the market',\n",
       " 'Top stars join US tsunami TV show',\n",
       " 'Star Trek fans fight to save show',\n",
       " 'Top of the Pops leaves BBC One',\n",
       " 'Oscar host Rock to keep it clean',\n",
       " 'Johnny and Denise lose Passport',\n",
       " 'Double eviction from Big Brother',\n",
       " 'Celebrities get their skates on',\n",
       " \"Holmes wins '2004 top TV moment'\",\n",
       " 'Veteran comic Cyril Fletcher dies',\n",
       " 'Little Britain vies for TV trophy',\n",
       " 'Springer criticises Opera musical',\n",
       " \"CSI shows give 'unrealistic view'\",\n",
       " \"Ethnic producers 'face barriers'\",\n",
       " 'US TV special for tsunami relief',\n",
       " 'Gervais writing Simpsons episode',\n",
       " 'John Peel replacement show begins',\n",
       " 'Brookside actress Keaveney dies',\n",
       " '&#163;1.8m indecency fine for Viacom',\n",
       " 'Celebrities get to stay in jungle',\n",
       " 'Triple triumph for Little Britain',\n",
       " \"BBC 'should allow more scrutiny'\",\n",
       " \"Greer attacks 'bully' Big Brother\",\n",
       " \"No charges against TV's Cosby\",\n",
       " \"Wife Swap makers sue US 'copycat'\",\n",
       " \"Show over for MTV's The Osbournes\",\n",
       " 'Jungle TV show ratings drop by 4m',\n",
       " 'Duran Duran show set for US TV',\n",
       " 'US show sued for rat-eating stunt',\n",
       " 'Muslim group attacks TV drama 24',\n",
       " \"Brookside creator's Channel 4 bid\",\n",
       " 'Little Britain two top comic list',\n",
       " 'TV show unites Angolan families',\n",
       " 'Volcano drama erupts on BBC One',\n",
       " 'South Bank Awards honour hit soap',\n",
       " 'Housewives lift Channel 4 ratings',\n",
       " \"Baywatch dubbed 'worst TV import'\",\n",
       " 'Stern dropped from radio stations',\n",
       " 'US TV host Clark suffers stroke',\n",
       " 'New media battle for Bafta awards',\n",
       " \"Bets off after Big Brother 'leak'\",\n",
       " 'School tribute for TV host Carson',\n",
       " \"Singer Ferguson 'facing eviction'\",\n",
       " 'Farrell due to make US TV debut',\n",
       " 'Stallone evicted from Big Brother',\n",
       " \"Fox 'too reliant on reality TV'\",\n",
       " 'George Michael to perform for BBC',\n",
       " 'Joy Division story to become film',\n",
       " 'New York rockers top talent poll',\n",
       " 'Aaliyah claim dismissed by court',\n",
       " 'Three DJs replace Peel radio show',\n",
       " 'Connick Jr to lead Broadway show',\n",
       " 'Elvis fans hold birthday bash',\n",
       " 'Elvis regains top chart position',\n",
       " \"Pop band Busted to 'take a break'\",\n",
       " \"Franz Ferdinand's art school lesson\",\n",
       " 'Singer Knight backs anti-gun song',\n",
       " 'Portishead back after eight years',\n",
       " 'Fightstar take to the stage',\n",
       " \"Elvis 'set for chart hat-trick'\",\n",
       " \"Youssou N'Dour wins music prize\",\n",
       " 'TOTP turns to Elvis impersonator',\n",
       " 'Blue beat U2 to top France honour',\n",
       " 'Ten-year tragedy of missing Manic',\n",
       " 'Mogul Wilson backing UK rap band',\n",
       " 'Singer Sizzla jailed for swearing',\n",
       " 'Spears seeks aborted tour payment',\n",
       " \"Deal to ban 'homophobic' reggae\",\n",
       " 'Soul sensation ready for awards',\n",
       " \"Prince crowned 'top music earner'\",\n",
       " 'Brit awards for Devon music acts',\n",
       " 'Rock star sued by ex-girlfriend',\n",
       " 'Scissor Sisters triumph at Brits',\n",
       " \"Jamelia's return to the top\",\n",
       " 'Cult band Kasabian surge forward',\n",
       " \"Brits debate over 'urban' music\",\n",
       " 'Row threatens Hendrix museum plan',\n",
       " 'No jail for singer Courtney Love',\n",
       " \"Rapper Kanye West's shrewd soul\",\n",
       " 'Singer Christina Aguilera to wed',\n",
       " 'Brits return Keane to number one',\n",
       " \"U2's desire to be number one\",\n",
       " 'Lasting influence of legend Charles',\n",
       " 'Grammys honour soul star Charles',\n",
       " 'Abba reunite for musical premiere',\n",
       " 'Help for indies in download sales',\n",
       " 'T in the Park sells out in days',\n",
       " 'Black Sabbath top rock album poll',\n",
       " \"Michael film signals 'retirement'\",\n",
       " 'Hendrix guitar fetches £100,000',\n",
       " \"German music in a 'zombie' state\",\n",
       " 'Musical treatment for Capra film',\n",
       " 'Famed music director Viotti dies',\n",
       " 'TV presenter Deeley drops CD:UK',\n",
       " 'The Producers scoops stage awards',\n",
       " 'Rocker Doherty in on-stage fight',\n",
       " 'The Sound of Music is coming home',\n",
       " 'Download chart debut is delayed',\n",
       " 'Rapper films music video in jail',\n",
       " 'Music man to the Oscars',\n",
       " 'Church urges Nelly show boycott',\n",
       " \"Rap feud in 50 Cent's G-Unit crew\",\n",
       " 'Prodigy join V Festival line-up',\n",
       " 'DJ double act revamp chart show',\n",
       " 'Rapper 50 Cent scores chart first',\n",
       " 'Goodrem wins top female MTV prize',\n",
       " 'REM announce new Glasgow concert',\n",
       " 'Rapper 50 Cent ends protege feud',\n",
       " 'Musicians to tackle US red tape',\n",
       " \"Angels 'favourite funeral song'\",\n",
       " 'U2 stars enter rock Hall of Fame',\n",
       " 'Tough schedule delays Elliot show',\n",
       " \"Singer Ian Brown 'in gig arrest'\",\n",
       " 'No UK premiere for Rings musical',\n",
       " 'Dame Julie pops in to see Poppins',\n",
       " 'Snow Patrol bassist exits group',\n",
       " 'Fockers keeps US box office lead',\n",
       " 'Spider-Man creator wins profits',\n",
       " \"Fry set for role in Hitchhiker's\",\n",
       " 'Bollywood draws global stars',\n",
       " 'Hollywood hunts hits at Sundance',\n",
       " 'Actress Roberts takes spider role',\n",
       " \"Film production 'falls' 40% in UK\",\n",
       " 'Fantasy book wins Hollywood deal',\n",
       " 'The comic book genius of Stan Lee',\n",
       " 'Bangkok film festival battles on',\n",
       " 'Carry On star Patsy Rowlands dies',\n",
       " \"Tautou 'to star in Da Vinci film'\",\n",
       " 'Double win for Sea Inside',\n",
       " 'BBC denies Blackadder TV comeback',\n",
       " \"Corbett attacks 'dumbed-down TV'\",\n",
       " 'Smith loses US box office crown',\n",
       " 'BBC to pour £9m into new comedy',\n",
       " 'How the Academy Awards flourished',\n",
       " 'Hoffman hits out over modern film',\n",
       " 'Johnny Depp: The acting outlaw',\n",
       " 'Patti Smith to host arts festival',\n",
       " 'Roxy Music on Isle of Wight bill',\n",
       " 'Music mogul Fuller sells company',\n",
       " 'Johnny Cash manager Holiff dies',\n",
       " \"UK 'world's biggest music buyer'\",\n",
       " 'Pixies take on Reading and Leeds',\n",
       " 'Vera Drake leads UK Oscar hopes',\n",
       " 'Moreno debut makes Oscar mark',\n",
       " 'Bening makes awards breakthrough',\n",
       " 'Oscars steer clear of controversy',\n",
       " 'Kidman wins photographer battle',\n",
       " 'Bookmakers back Aviator for Oscar',\n",
       " 'Van Gogh festival film withdrawn',\n",
       " 'Douglas set for Indian adventure',\n",
       " 'Russian film wins BBC world prize',\n",
       " 'Incredibles win animation awards',\n",
       " 'Actor Scott is new Bond favourite',\n",
       " \"Singer's film to show at festival\",\n",
       " 'De Niro film leads US box office',\n",
       " 'Films on war triumph at Sundance',\n",
       " 'Career honour for actor DiCaprio',\n",
       " \"Howl helps boost Japan's cinemas\",\n",
       " 'Keanu Reeves given Hollywood star',\n",
       " 'De Niro completes box office coup',\n",
       " 'Day-Lewis set for Berlin honour',\n",
       " 'US composer recreates Bach score',\n",
       " \"Applegate's Charity show closes\",\n",
       " 'Ray Charles studio becomes museum',\n",
       " \"Britney attacks 'false tabloids'\",\n",
       " 'Abba queen enters music rich list',\n",
       " 'Casino Royale is next Bond movie',\n",
       " 'Berlin celebrates European cinema',\n",
       " 'India to deport Bollywood actress',\n",
       " 'Ray DVD beats box office takings',\n",
       " \"Women in film 'are earning less'\",\n",
       " \"Vera Drake's Bafta triumph hope\",\n",
       " 'Roundabout continues nostalgia trip',\n",
       " 'Stars shine on Bafta red carpet',\n",
       " 'Bafta to hand out movie honours',\n",
       " 'Stars pay tribute to actor Davis',\n",
       " 'Aviator and Vera take Bafta glory',\n",
       " 'Film star Fox behind theatre bid',\n",
       " 'Shark Tale DVD is US best-seller',\n",
       " 'Lopez misses UK charity premiere',\n",
       " \"Super Size Me wins writers' award\",\n",
       " 'Original Exorcist to be screened',\n",
       " 'Oscar nominees lack pulling power',\n",
       " 'Hitch holds on to US box office',\n",
       " 'Tarantino to direct CSI episode',\n",
       " 'Bollywood DVD fraudster is jailed',\n",
       " \"US 'afflicted' with awards fatigue\",\n",
       " 'Critics back Aviator for Oscars',\n",
       " 'Briton wins short film Oscar',\n",
       " 'Sideways dominates Spirit awards',\n",
       " 'Arnold congratulated on Oscar win',\n",
       " \"Eastwood's Baby scoops top Oscars\",\n",
       " 'British stars denied major Oscars',\n",
       " 'Lee to create new film superhero',\n",
       " \"Jackson film 'absolute disaster'\",\n",
       " 'France set for new Da Vinci novel',\n",
       " 'UK Directors Guild nominees named',\n",
       " 'Halloween writer Debra Hill dies',\n",
       " \"Tarantino 'to make Friday sequel'\",\n",
       " 'Boogeyman takes box office lead',\n",
       " 'Lost Doors frontman movie found',\n",
       " \"Last Star Wars 'not for children'\",\n",
       " 'French honour for director Parker',\n",
       " 'Robots march to US cinema summit',\n",
       " \"Hobbit picture 'four years away'\",\n",
       " 'Buffy creator joins Wonder Woman',\n",
       " 'Labour plans maternity pay rise',\n",
       " 'Watchdog probes e-mail deletions',\n",
       " \"Hewitt decries 'career sexism'\",\n",
       " 'Labour chooses Manchester',\n",
       " 'Brown ally rejects Budget spree',\n",
       " \"'Errors' doomed first Dome sale\",\n",
       " \"Fox attacks Blair's Tory 'lies'\",\n",
       " 'Women MPs reveal sexist taunts',\n",
       " \"Campbell: E-mail row 'silly fuss'\",\n",
       " 'Crucial decision on super-casinos',\n",
       " 'Mrs Howard gets key election role',\n",
       " 'PM apology over jailings',\n",
       " 'Howard rebuts asylum criticisms',\n",
       " 'Blair rejects Tory terror offer',\n",
       " \"Talks held on Gibraltar's future\",\n",
       " \"Crisis 'ahead in social sciences'\",\n",
       " 'Tsunami debt deal to be announced',\n",
       " 'Straw to attend Auschwitz service',\n",
       " \"Drink remark 'acts as diversion'\",\n",
       " 'Concerns at school diploma plan',\n",
       " \"Blair backs 'pre-election budget'\",\n",
       " 'Nat Insurance to rise, say Tories',\n",
       " \"E-University 'disgraceful waste'\",\n",
       " 'Brown visits slum on Africa trip',\n",
       " \"UK 'needs true immigration data'\",\n",
       " 'Blair sets date for Africa report',\n",
       " 'Butler launches attack on Blair',\n",
       " 'Lib Dems demand new inquiry',\n",
       " 'UK set to cut back on embassies',\n",
       " \"Labour targets 'hardcore truants'\",\n",
       " 'Blunkett sorry over murder plan',\n",
       " 'Hunt demo at Labour meeting',\n",
       " 'Protesters plan airport challenge',\n",
       " \"Tories attack burglar 'U-turns'\",\n",
       " 'Leaders meet over Turkish EU bid',\n",
       " 'Choose hope over fear - Kennedy',\n",
       " 'Profile: David Miliband',\n",
       " 'Borders rail link campaign rally',\n",
       " \"'Hitler' row over Welsh arts cash\",\n",
       " 'Lords wrong on detainees - Straw',\n",
       " 'Profile: David Blunkett',\n",
       " 'Strike threat over pension plans',\n",
       " \"Parties warned over 'grey vote'\",\n",
       " 'MPs quiz aides over royal income',\n",
       " \"Tory leader 'cleared' over work\",\n",
       " 'Blair and Blunkett Sheffield trip',\n",
       " \"Student 'fee factor' played down\",\n",
       " \"Anglers 'could face prosecution'\",\n",
       " 'Clarke to press on with ID cards',\n",
       " 'Scots smoking ban details set out',\n",
       " 'MPs criticise child access system',\n",
       " \"Nuclear strike 'key terror risk'\",\n",
       " 'Russian ex-spy on hunger strike',\n",
       " \"Lib Dems 'to target stamp duty'\",\n",
       " 'Kelly trails new discipline power',\n",
       " 'Citizenship event for 18s touted',\n",
       " \"England children's tsar appointed\",\n",
       " \"EU China arms ban 'to be lifted'\",\n",
       " \"'Debate needed' on donations cap\",\n",
       " 'Cardinal criticises Iraq war cost',\n",
       " \"Assembly ballot papers 'missing'\",\n",
       " 'Muslims discuss election concerns',\n",
       " \"Drive to 'save' festive holidays\",\n",
       " 'Blair hails Turkey-EU talks deal',\n",
       " \"Guantanamo pair's passport ban\",\n",
       " 'Commons hunt protest charges',\n",
       " 'Child access laws shake-up',\n",
       " \"MPs to debate 'euthanasia laws'\",\n",
       " 'Talks aim to avert pension strike',\n",
       " 'Opposition grows to house arrests',\n",
       " \"Visa decision 'every 11 minutes'\",\n",
       " \"'No more concessions' on terror\",\n",
       " 'No to Royal succession shake-up',\n",
       " 'BNP leader Nick Griffin arrested',\n",
       " 'Boris opposes mayor apology',\n",
       " 'Report attacks defence spending',\n",
       " 'Brown names 16 March for Budget',\n",
       " 'Asylum children to face returns',\n",
       " \"'Fido' to be taken off vote lists\",\n",
       " \"'More to do' on adult literacy\",\n",
       " 'Tory backing for ID cards',\n",
       " \"Labour's 'EU propaganda'\",\n",
       " \"Hague 'given up' his PM ambition\",\n",
       " \"Job cuts 'false economy'  - TUC\",\n",
       " \"UK's 'useless' quangos under fire\",\n",
       " 'Howard backs stem cell research',\n",
       " 'Howard unveils Tory asylum plans',\n",
       " \"Campaign 'cold calls' questioned\",\n",
       " 'Tory leader quits legal position',\n",
       " 'MSPs hear renewed climate warning',\n",
       " \"Vouchers 'to cut winter deaths'\",\n",
       " \"New 'yob' targets to be unveiled\",\n",
       " 'Kennedy calls for Iraq exit plans',\n",
       " \"McConnell in 'drunk' remark row\",\n",
       " 'Brown hits back in Blair rift row',\n",
       " \"Tories 'would cut number of MPs'\",\n",
       " 'UK plan to deport terror suspects',\n",
       " \"Ministers deny care sums 'wrong'\",\n",
       " 'Blair stresses prosperity goals',\n",
       " \"Guantanamo man 'suing government'\",\n",
       " \"Council tax rise 'reasonable'\",\n",
       " 'Blunkett row should end - Blair',\n",
       " 'Minimum rate for foster parents',\n",
       " \"Royal couple watch nation's mood\",\n",
       " ...]"
      ]
     },
     "execution_count": 21,
     "metadata": {},
     "output_type": "execute_result"
    }
   ],
   "source": [
    "[row for row in data['title']]  # d"
   ]
  },
  {
   "cell_type": "code",
   "execution_count": 9,
   "id": "f3f92d32",
   "metadata": {
    "scrolled": true
   },
   "outputs": [
    {
     "data": {
      "text/plain": [
       "sport            511\n",
       "business         510\n",
       "politics         417\n",
       "tech             401\n",
       "entertainment    386\n",
       "Name: category, dtype: int64"
      ]
     },
     "execution_count": 9,
     "metadata": {},
     "output_type": "execute_result"
    }
   ],
   "source": [
    "data['category'].value_counts()"
   ]
  },
  {
   "cell_type": "code",
   "execution_count": 10,
   "id": "67de1225",
   "metadata": {},
   "outputs": [],
   "source": [
    "data = data[[\"title\", \"category\"]]\n",
    "\n",
    "x = np.array(data[\"title\"])  # 범주\n",
    "y = np.array(data[\"category\"])  # 클래스\n",
    "\n",
    "cv = CountVectorizer()\n",
    "X = cv.fit_transform(x)\n",
    "X_train, X_test, y_train, y_test = train_test_split(X, y, test_size=0.33, random_state=42)"
   ]
  },
  {
   "cell_type": "code",
   "execution_count": 11,
   "id": "8e4a2c5d",
   "metadata": {},
   "outputs": [
    {
     "data": {
      "text/plain": [
       "MultinomialNB()"
      ]
     },
     "execution_count": 11,
     "metadata": {},
     "output_type": "execute_result"
    }
   ],
   "source": [
    "model = MultinomialNB()\n",
    "model.fit(X_train,y_train)"
   ]
  },
  {
   "cell_type": "code",
   "execution_count": 34,
   "id": "52b1b361",
   "metadata": {},
   "outputs": [
    {
     "name": "stdout",
     "output_type": "stream",
     "text": [
      "Enter a Text: 토스뱅크의 화두는 '카드업'…신규 주주로 하나카드 합류\n",
      "['sport']\n"
     ]
    }
   ],
   "source": [
    "user = input(\"Enter a Text: \")\n",
    "data = cv.transform([user]).toarray()\n",
    "output = model.predict(data)\n",
    "print(output)"
   ]
  },
  {
   "cell_type": "code",
   "execution_count": 13,
   "id": "7762a7ce",
   "metadata": {},
   "outputs": [
    {
     "data": {
      "text/plain": [
       "array([[0, 0, 0, ..., 0, 0, 0]], dtype=int64)"
      ]
     },
     "execution_count": 13,
     "metadata": {},
     "output_type": "execute_result"
    }
   ],
   "source": [
    "data"
   ]
  },
  {
   "cell_type": "code",
   "execution_count": null,
   "id": "34412e76",
   "metadata": {},
   "outputs": [],
   "source": []
  }
 ],
 "metadata": {
  "kernelspec": {
   "display_name": "sd_env",
   "language": "python",
   "name": "sd_env"
  },
  "language_info": {
   "codemirror_mode": {
    "name": "ipython",
    "version": 3
   },
   "file_extension": ".py",
   "mimetype": "text/x-python",
   "name": "python",
   "nbconvert_exporter": "python",
   "pygments_lexer": "ipython3",
   "version": "3.7.12"
  }
 },
 "nbformat": 4,
 "nbformat_minor": 5
}
